{
 "cells": [
  {
   "cell_type": "markdown",
   "metadata": {},
   "source": [
    "## Create a deck of cards in Python"
   ]
  },
  {
   "cell_type": "code",
   "execution_count": 149,
   "metadata": {},
   "outputs": [],
   "source": [
    "import random\n",
    "class Card(object):\n",
    "    \n",
    "    def __init__(self, suit, value):\n",
    "        self.suit = suit\n",
    "        self.value = value\n",
    "        \n",
    "    def show(self):\n",
    "        return (\"{} of {}\".format(self.value, self.suit))\n",
    "\n",
    "\n",
    "class Deck(object):\n",
    "    \n",
    "    def __init__(self):\n",
    "        self.cards = []\n",
    "        self.build()        \n",
    "        \n",
    "    def build(self):\n",
    "        for s in ['Spades', 'Clubs', 'Dimanonds', 'Hearts']:\n",
    "            for v in range(1,14):\n",
    "                self.cards.append(Card(s,v))\n",
    "    \n",
    "    def show(self):\n",
    "        for c in self.cards:\n",
    "            print(c.show())\n",
    "            \n",
    "    def shuffle(self):\n",
    "        for i in range(len(self.cards)-1,0,-1):\n",
    "            r = random.randint(0,i)\n",
    "            self.cards[i],self.cards[r] = self.cards[r], self.cards[i]   \n",
    "            \n",
    "    def drawCard(self):\n",
    "        return self.cards.pop()\n",
    "\n",
    "            \n",
    "class Player(object):  \n",
    "    \n",
    "    def __init__(self, name):\n",
    "        self.name = name\n",
    "        self.hand = []    \n",
    "        \n",
    "    def draw(self,deck):\n",
    "        self.hand.append(deck.drawCard())\n",
    "        return self\n",
    "        \n",
    "    def showHand(self):\n",
    "        for card in self.hand:\n",
    "            print(card.show())\n",
    "            \n",
    "    def discard(self):\n",
    "        return self.hand,pop()\n",
    "            "
   ]
  },
  {
   "cell_type": "code",
   "execution_count": 81,
   "metadata": {},
   "outputs": [],
   "source": [
    "card = Card('Clubs', 6)"
   ]
  },
  {
   "cell_type": "code",
   "execution_count": 12,
   "metadata": {},
   "outputs": [
    {
     "name": "stdout",
     "output_type": "stream",
     "text": [
      "6 of Clubs\n"
     ]
    }
   ],
   "source": [
    "print(card.show())"
   ]
  },
  {
   "cell_type": "code",
   "execution_count": 92,
   "metadata": {
    "collapsed": true
   },
   "outputs": [
    {
     "name": "stdout",
     "output_type": "stream",
     "text": [
      "1 of Spades\n",
      "2 of Spades\n",
      "3 of Spades\n",
      "4 of Spades\n",
      "5 of Spades\n",
      "6 of Spades\n",
      "7 of Spades\n",
      "8 of Spades\n",
      "9 of Spades\n",
      "10 of Spades\n",
      "11 of Spades\n",
      "12 of Spades\n",
      "13 of Spades\n",
      "1 of Clubs\n",
      "2 of Clubs\n",
      "3 of Clubs\n",
      "4 of Clubs\n",
      "5 of Clubs\n",
      "6 of Clubs\n",
      "7 of Clubs\n",
      "8 of Clubs\n",
      "9 of Clubs\n",
      "10 of Clubs\n",
      "11 of Clubs\n",
      "12 of Clubs\n",
      "13 of Clubs\n",
      "1 of Dimanonds\n",
      "2 of Dimanonds\n",
      "3 of Dimanonds\n",
      "4 of Dimanonds\n",
      "5 of Dimanonds\n",
      "6 of Dimanonds\n",
      "7 of Dimanonds\n",
      "8 of Dimanonds\n",
      "9 of Dimanonds\n",
      "10 of Dimanonds\n",
      "11 of Dimanonds\n",
      "12 of Dimanonds\n",
      "13 of Dimanonds\n",
      "1 of Hearts\n",
      "2 of Hearts\n",
      "3 of Hearts\n",
      "4 of Hearts\n",
      "5 of Hearts\n",
      "6 of Hearts\n",
      "7 of Hearts\n",
      "8 of Hearts\n",
      "9 of Hearts\n",
      "10 of Hearts\n",
      "11 of Hearts\n",
      "12 of Hearts\n",
      "13 of Hearts\n"
     ]
    }
   ],
   "source": [
    "deck = Deck()\n",
    "deck.show()"
   ]
  },
  {
   "cell_type": "code",
   "execution_count": 55,
   "metadata": {
    "collapsed": true
   },
   "outputs": [
    {
     "name": "stdout",
     "output_type": "stream",
     "text": [
      "5 of Spades\n",
      "12 of Hearts\n",
      "4 of Hearts\n",
      "11 of Hearts\n",
      "9 of Hearts\n",
      "4 of Spades\n",
      "13 of Dimanonds\n",
      "9 of Clubs\n",
      "12 of Spades\n",
      "8 of Dimanonds\n",
      "11 of Spades\n",
      "2 of Dimanonds\n",
      "6 of Clubs\n",
      "10 of Dimanonds\n",
      "9 of Dimanonds\n",
      "8 of Clubs\n",
      "5 of Clubs\n",
      "9 of Spades\n",
      "12 of Dimanonds\n",
      "5 of Dimanonds\n",
      "6 of Spades\n",
      "1 of Dimanonds\n",
      "4 of Clubs\n",
      "13 of Hearts\n",
      "1 of Spades\n",
      "3 of Spades\n",
      "10 of Clubs\n",
      "2 of Spades\n",
      "6 of Dimanonds\n",
      "12 of Clubs\n",
      "6 of Hearts\n",
      "7 of Dimanonds\n",
      "11 of Dimanonds\n",
      "8 of Hearts\n",
      "3 of Clubs\n",
      "13 of Clubs\n",
      "7 of Hearts\n",
      "2 of Hearts\n",
      "3 of Hearts\n",
      "7 of Clubs\n",
      "11 of Clubs\n",
      "2 of Clubs\n",
      "5 of Hearts\n",
      "10 of Spades\n",
      "4 of Dimanonds\n",
      "8 of Spades\n",
      "13 of Spades\n",
      "10 of Hearts\n",
      "7 of Spades\n",
      "3 of Dimanonds\n",
      "1 of Hearts\n",
      "1 of Clubs\n"
     ]
    }
   ],
   "source": [
    "deck = Deck()\n",
    "deck.shuffle()\n",
    "deck.show()"
   ]
  },
  {
   "cell_type": "code",
   "execution_count": 107,
   "metadata": {
    "scrolled": false
   },
   "outputs": [
    {
     "data": {
      "text/plain": [
       "'2 of Clubs'"
      ]
     },
     "execution_count": 107,
     "metadata": {},
     "output_type": "execute_result"
    }
   ],
   "source": [
    "deck = Deck()\n",
    "deck.shuffle()\n",
    "card = deck.drawCard()\n",
    "card.show()"
   ]
  },
  {
   "cell_type": "code",
   "execution_count": 152,
   "metadata": {},
   "outputs": [],
   "source": [
    "Bob = Player('Bob')"
   ]
  },
  {
   "cell_type": "code",
   "execution_count": null,
   "metadata": {},
   "outputs": [],
   "source": [
    "# Access through class Player can pass in intance var Bob = player('bob')"
   ]
  },
  {
   "cell_type": "code",
   "execution_count": 153,
   "metadata": {},
   "outputs": [
    {
     "name": "stdout",
     "output_type": "stream",
     "text": [
      "1 of Spades\n",
      "None\n"
     ]
    }
   ],
   "source": [
    "Player.draw(Bob,deck)\n",
    "print(Player.showHand(Bob))"
   ]
  },
  {
   "cell_type": "code",
   "execution_count": 105,
   "metadata": {},
   "outputs": [],
   "source": [
    "# Access through instance Bob"
   ]
  },
  {
   "cell_type": "code",
   "execution_count": 151,
   "metadata": {},
   "outputs": [
    {
     "name": "stdout",
     "output_type": "stream",
     "text": [
      "8 of Spades\n",
      "12 of Spades\n"
     ]
    }
   ],
   "source": [
    "Bob.draw(deck)\n",
    "Bob.draw(deck)\n",
    "Bob.showHand()"
   ]
  },
  {
   "cell_type": "code",
   "execution_count": null,
   "metadata": {},
   "outputs": [],
   "source": []
  },
  {
   "cell_type": "code",
   "execution_count": null,
   "metadata": {},
   "outputs": [],
   "source": []
  },
  {
   "cell_type": "code",
   "execution_count": null,
   "metadata": {},
   "outputs": [],
   "source": []
  }
 ],
 "metadata": {
  "kernelspec": {
   "display_name": "Python 3",
   "language": "python",
   "name": "python3"
  },
  "language_info": {
   "codemirror_mode": {
    "name": "ipython",
    "version": 3
   },
   "file_extension": ".py",
   "mimetype": "text/x-python",
   "name": "python",
   "nbconvert_exporter": "python",
   "pygments_lexer": "ipython3",
   "version": "3.8.3"
  }
 },
 "nbformat": 4,
 "nbformat_minor": 4
}
