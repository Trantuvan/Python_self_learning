{
 "cells": [
  {
   "cell_type": "markdown",
   "metadata": {},
   "source": [
    "# Class variables vs Instances variables\n",
    "\n",
    "- **Class variable** : variables are share all among **instances** of a class (Should be the same)\n",
    "- **Instances variable**: variables are unique for each **instances** like our names, pay\n"
   ]
  },
  {
   "cell_type": "code",
   "execution_count": 4,
   "metadata": {},
   "outputs": [],
   "source": [
    "class Employee(object):\n",
    "#     CLass variable must be accessed through class or intances\n",
    "    raise_amount = 1.04\n",
    "    num_of_emps = 0\n",
    "    def __init__(self, first, last, pay):\n",
    "        self.first = first\n",
    "        self.last = last\n",
    "        self.pay = pay\n",
    "        self.email = first + \" \" + last + \"@company.com\"\n",
    "#         class variable access through class is a constant with all instances\n",
    "        Employee.num_of_emps += 1\n",
    "        \n",
    "    def full_name(self):\n",
    "        return \"{} {}\".format(self.first,self.last)\n",
    "    \n",
    "    def apply_raise(self):\n",
    "#         raise_amount must have self.raise_amount or Employee.raise_amount to work\n",
    "        self.pay = int(self.pay * self.raise_amount)\n",
    "        return self.pay"
   ]
  },
  {
   "cell_type": "code",
   "execution_count": 3,
   "metadata": {},
   "outputs": [
    {
     "name": "stdout",
     "output_type": "stream",
     "text": [
      "1.04\n",
      "1.04\n",
      "1.04\n"
     ]
    }
   ],
   "source": [
    "emp_1 = Employee('Van','Tran',60_000)\n",
    "emp_2 = Employee('Corey','Shafer', 70_000)\n",
    "\n",
    "# class variable is for all instances (it's a constant for instances)\n",
    "# class variable must be called through class or instances\n",
    "# if using class to access and make change will change all the class variable\n",
    "# if using instances to access and make change just change the instance call that class variable\n",
    "\n",
    "# using .__dict__ to check variable and method in class or instances\n",
    "Employee.__dict__\n",
    "\n",
    "# call class variable using class\n",
    "print(Employee.raise_amount)\n",
    "\n",
    "# call using instance variable\n",
    "print(emp_1.raise_amount)\n",
    "print(emp_2.raise_amount)"
   ]
  },
  {
   "cell_type": "code",
   "execution_count": null,
   "metadata": {},
   "outputs": [],
   "source": []
  }
 ],
 "metadata": {
  "kernelspec": {
   "display_name": "Python 3",
   "language": "python",
   "name": "python3"
  },
  "language_info": {
   "codemirror_mode": {
    "name": "ipython",
    "version": 3
   },
   "file_extension": ".py",
   "mimetype": "text/x-python",
   "name": "python",
   "nbconvert_exporter": "python",
   "pygments_lexer": "ipython3",
   "version": "3.8.6"
  }
 },
 "nbformat": 4,
 "nbformat_minor": 4
}
