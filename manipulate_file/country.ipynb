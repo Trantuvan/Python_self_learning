{
 "cells": [
  {
   "cell_type": "code",
   "execution_count": 2,
   "metadata": {},
   "outputs": [
    {
     "name": "stdout",
     "output_type": "stream",
     "text": [
      "hh + l + 1000\n"
     ]
    }
   ],
   "source": [
    "def get_fullname(city, country, pop = 0):\n",
    "\n",
    "    if pop:\n",
    "        return '{} + {} + {}'.format(city,country,pop)\n",
    "    else:\n",
    "        return '{} is a city of {}'.format(city,country)\n",
    "\n",
    "# print(get_fullname('hh','l',1000))\n"
   ]
  },
  {
   "cell_type": "code",
   "execution_count": null,
   "metadata": {},
   "outputs": [],
   "source": [
    "def hello():\n",
    "    print('hello')"
   ]
  }
 ],
 "metadata": {
  "kernelspec": {
   "display_name": "Python 3",
   "language": "python",
   "name": "python3"
  },
  "language_info": {
   "codemirror_mode": {
    "name": "ipython",
    "version": 3
   },
   "file_extension": ".py",
   "mimetype": "text/x-python",
   "name": "python",
   "nbconvert_exporter": "python",
   "pygments_lexer": "ipython3",
   "version": "3.8.3"
  }
 },
 "nbformat": 4,
 "nbformat_minor": 4
}
