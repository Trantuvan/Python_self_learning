{
 "cells": [
  {
   "cell_type": "markdown",
   "metadata": {
    "jupyter": {
     "source_hidden": true
    }
   },
   "source": [
    "# Generators vs Lists\n",
    "**Both Generators and Lists are used to store data**\n",
    "- Generators are not returns all data at once, it returns one piece of data at the time. The disavantage is that Generators are not store all data in memory so that you can process with it. However, you can convert it into list. "
   ]
  },
  {
   "cell_type": "code",
   "execution_count": 2,
   "metadata": {
    "collapsed": true,
    "jupyter": {
     "outputs_hidden": true,
     "source_hidden": true
    }
   },
   "outputs": [
    {
     "name": "stdout",
     "output_type": "stream",
     "text": [
      "[1, 4, 9, 16, 25]\n"
     ]
    }
   ],
   "source": [
    "# square_numbers using normal list\n",
    "def square_numbers(nums):\n",
    "    \"\"\"Calculate the square number of given list and store in list result\"\"\"\n",
    "    result = []\n",
    "    for i in nums:\n",
    "        result.append(i**2)\n",
    "    return result\n",
    "\n",
    "my_nums = square_numbers([1,2,3,4,5])\n",
    "print(my_nums)"
   ]
  },
  {
   "cell_type": "code",
   "execution_count": 8,
   "metadata": {
    "collapsed": true,
    "jupyter": {
     "outputs_hidden": true,
     "source_hidden": true
    }
   },
   "outputs": [
    {
     "name": "stdout",
     "output_type": "stream",
     "text": [
      "<generator object square_numbers at 0x0000022EF093C970>\n",
      "1\n",
      "4\n",
      "9\n",
      "16\n",
      "25\n"
     ]
    }
   ],
   "source": [
    "# squares_numbers using generators\n",
    "def square_numbers(nums):\n",
    "    \"\"\"Calculate the square number of given list and release result once at the time\"\"\"\n",
    "    for i in nums:\n",
    "        yield i**2\n",
    "        \n",
    "my_nums = square_numbers([1,2,3,4,5]) #[1, 4, 9, 16, 25]\n",
    "print(my_nums)\n",
    "# print(next(my_nums))\n",
    "# print(next(my_nums))\n",
    "# print(next(my_nums))\n",
    "# print(next(my_nums))\n",
    "# print(next(my_nums))\n",
    "# print(next(my_nums))\n",
    "\n",
    "# instead of using next() to print out my_nums once at the time. We can use for loop \n",
    "for num in my_nums:\n",
    "    print(num)"
   ]
  },
  {
   "cell_type": "code",
   "execution_count": 16,
   "metadata": {
    "collapsed": true,
    "jupyter": {
     "outputs_hidden": true,
     "source_hidden": true
    }
   },
   "outputs": [
    {
     "name": "stdout",
     "output_type": "stream",
     "text": [
      "<generator object <genexpr> at 0x0000022EF07DA2E0>\n",
      "1\n",
      "4\n",
      "9\n",
      "16\n",
      "25\n"
     ]
    }
   ],
   "source": [
    "# using lsit comprehensive\n",
    "my_nums = [i**2 for i in [1,2,3,4,5]]\n",
    "\n",
    "# using generators comprehensive notice using parenthesis \"()\" to indicate generators\n",
    "my_num = (i**2 for i in [1,2,3,4,5])\n",
    "print(my_num)\n",
    "\n",
    "for num in my_num:\n",
    "    print(num)"
   ]
  },
  {
   "cell_type": "code",
   "execution_count": 2,
   "metadata": {},
   "outputs": [],
   "source": [
    "import time\n",
    "import random\n",
    "names = ['John','Corey','Adam','Steve','Rick','Thomas']\n",
    "majors = ['Math','Engineering','CompSci','Arts','Business']"
   ]
  },
  {
   "cell_type": "code",
   "execution_count": 13,
   "metadata": {},
   "outputs": [],
   "source": [
    "def people_list(num_people):\n",
    "    result = []\n",
    "    for i in xrange(num_people):\n",
    "        person = {\n",
    "            'id': i,\n",
    "            'name': random.choice(names),\n",
    "            'major': random.choice(majors),\n",
    "        }\n",
    "        result.append(person)\n",
    "    return result"
   ]
  },
  {
   "cell_type": "code",
   "execution_count": 18,
   "metadata": {},
   "outputs": [],
   "source": [
    "def people_list(num_people):\n",
    "    for i in range(num_people):\n",
    "        person = {\n",
    "            'id': i,\n",
    "            'name': random.choice(names),\n",
    "            'major': random.choice(majors),\n",
    "        }\n",
    "    yield person"
   ]
  },
  {
   "cell_type": "code",
   "execution_count": 21,
   "metadata": {},
   "outputs": [
    {
     "data": {
      "text/plain": [
       "{'id': 999999, 'name': 'Thomas', 'major': 'CompSci'}"
      ]
     },
     "execution_count": 21,
     "metadata": {},
     "output_type": "execute_result"
    }
   ],
   "source": [
    "next(people_list(1_000_000))"
   ]
  },
  {
   "cell_type": "code",
   "execution_count": null,
   "metadata": {},
   "outputs": [],
   "source": []
  }
 ],
 "metadata": {
  "kernelspec": {
   "display_name": "Python 3",
   "language": "python",
   "name": "python3"
  },
  "language_info": {
   "codemirror_mode": {
    "name": "ipython",
    "version": 3
   },
   "file_extension": ".py",
   "mimetype": "text/x-python",
   "name": "python",
   "nbconvert_exporter": "python",
   "pygments_lexer": "ipython3",
   "version": "3.8.3"
  }
 },
 "nbformat": 4,
 "nbformat_minor": 4
}
