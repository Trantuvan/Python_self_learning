{
 "cells": [
  {
   "cell_type": "code",
   "execution_count": 2,
   "metadata": {},
   "outputs": [],
   "source": [
    "import pandas as pd\n",
    "data = pd.read_csv('vehicles.csv')"
   ]
  },
  {
   "cell_type": "code",
   "execution_count": 2,
   "metadata": {},
   "outputs": [
    {
     "data": {
      "text/plain": [
       "Index(['id', 'url', 'region', 'region_url', 'price', 'year', 'manufacturer',\n",
       "       'model', 'condition', 'cylinders', 'fuel', 'odometer', 'title_status',\n",
       "       'transmission', 'vin', 'drive', 'size', 'type', 'paint_color',\n",
       "       'image_url', 'description', 'county', 'state', 'lat', 'long'],\n",
       "      dtype='object')"
      ]
     },
     "execution_count": 2,
     "metadata": {},
     "output_type": "execute_result"
    }
   ],
   "source": [
    "##Data exploration\n",
    "data.columns"
   ]
  },
  {
   "cell_type": "code",
   "execution_count": 3,
   "metadata": {},
   "outputs": [
    {
     "data": {
      "text/plain": [
       "(539759, 25)"
      ]
     },
     "execution_count": 3,
     "metadata": {},
     "output_type": "execute_result"
    }
   ],
   "source": [
    "data.shape"
   ]
  },
  {
   "cell_type": "code",
   "execution_count": 16,
   "metadata": {},
   "outputs": [
    {
     "data": {
      "text/plain": [
       "(539759, 25)"
      ]
     },
     "execution_count": 16,
     "metadata": {},
     "output_type": "execute_result"
    }
   ],
   "source": [
    "##Drop duplicate values\n",
    "data.drop_duplicates(inplace=True)\n",
    "data.shape\n",
    "#No duplicate values"
   ]
  },
  {
   "cell_type": "code",
   "execution_count": 9,
   "metadata": {},
   "outputs": [
    {
     "name": "stdout",
     "output_type": "stream",
     "text": [
      "<class 'pandas.core.frame.DataFrame'>\n",
      "RangeIndex: 539759 entries, 0 to 539758\n",
      "Data columns (total 25 columns):\n",
      " #   Column        Non-Null Count   Dtype  \n",
      "---  ------        --------------   -----  \n",
      " 0   id            539759 non-null  int64  \n",
      " 1   url           539759 non-null  object \n",
      " 2   region        539759 non-null  object \n",
      " 3   region_url    539759 non-null  object \n",
      " 4   price         539759 non-null  int64  \n",
      " 5   year          538772 non-null  float64\n",
      " 6   manufacturer  516175 non-null  object \n",
      " 7   model         531746 non-null  object \n",
      " 8   condition     303707 non-null  object \n",
      " 9   cylinders     321264 non-null  object \n",
      " 10  fuel          536366 non-null  object \n",
      " 11  odometer      440783 non-null  float64\n",
      " 12  title_status  536819 non-null  object \n",
      " 13  transmission  535786 non-null  object \n",
      " 14  vin           315349 non-null  object \n",
      " 15  drive         383987 non-null  object \n",
      " 16  size          168550 non-null  object \n",
      " 17  type          392290 non-null  object \n",
      " 18  paint_color   365520 non-null  object \n",
      " 19  image_url     539740 non-null  object \n",
      " 20  description   539738 non-null  object \n",
      " 21  county        0 non-null       float64\n",
      " 22  state         539759 non-null  object \n",
      " 23  lat           530785 non-null  float64\n",
      " 24  long          530785 non-null  float64\n",
      "dtypes: float64(5), int64(2), object(18)\n",
      "memory usage: 103.0+ MB\n"
     ]
    }
   ],
   "source": [
    "data.info()"
   ]
  },
  {
   "cell_type": "code",
   "execution_count": 4,
   "metadata": {},
   "outputs": [
    {
     "data": {
      "text/html": [
       "<div>\n",
       "<style scoped>\n",
       "    .dataframe tbody tr th:only-of-type {\n",
       "        vertical-align: middle;\n",
       "    }\n",
       "\n",
       "    .dataframe tbody tr th {\n",
       "        vertical-align: top;\n",
       "    }\n",
       "\n",
       "    .dataframe thead th {\n",
       "        text-align: right;\n",
       "    }\n",
       "</style>\n",
       "<table border=\"1\" class=\"dataframe\">\n",
       "  <thead>\n",
       "    <tr style=\"text-align: right;\">\n",
       "      <th></th>\n",
       "      <th>id</th>\n",
       "      <th>price</th>\n",
       "      <th>year</th>\n",
       "      <th>odometer</th>\n",
       "      <th>county</th>\n",
       "      <th>lat</th>\n",
       "      <th>long</th>\n",
       "    </tr>\n",
       "  </thead>\n",
       "  <tbody>\n",
       "    <tr>\n",
       "      <th>count</th>\n",
       "      <td>5.397590e+05</td>\n",
       "      <td>5.397590e+05</td>\n",
       "      <td>538772.000000</td>\n",
       "      <td>4.407830e+05</td>\n",
       "      <td>0.0</td>\n",
       "      <td>530785.000000</td>\n",
       "      <td>530785.000000</td>\n",
       "    </tr>\n",
       "    <tr>\n",
       "      <th>mean</th>\n",
       "      <td>7.087609e+09</td>\n",
       "      <td>1.954214e+05</td>\n",
       "      <td>2009.830982</td>\n",
       "      <td>1.008008e+05</td>\n",
       "      <td>NaN</td>\n",
       "      <td>38.432128</td>\n",
       "      <td>-94.040501</td>\n",
       "    </tr>\n",
       "    <tr>\n",
       "      <th>std</th>\n",
       "      <td>5.234176e+06</td>\n",
       "      <td>2.208252e+07</td>\n",
       "      <td>9.161334</td>\n",
       "      <td>1.767058e+05</td>\n",
       "      <td>NaN</td>\n",
       "      <td>5.916936</td>\n",
       "      <td>17.626658</td>\n",
       "    </tr>\n",
       "    <tr>\n",
       "      <th>min</th>\n",
       "      <td>7.065765e+09</td>\n",
       "      <td>0.000000e+00</td>\n",
       "      <td>0.000000</td>\n",
       "      <td>0.000000e+00</td>\n",
       "      <td>NaN</td>\n",
       "      <td>-84.911400</td>\n",
       "      <td>-176.810000</td>\n",
       "    </tr>\n",
       "    <tr>\n",
       "      <th>25%</th>\n",
       "      <td>7.084240e+09</td>\n",
       "      <td>4.400000e+03</td>\n",
       "      <td>2007.000000</td>\n",
       "      <td>4.703850e+04</td>\n",
       "      <td>NaN</td>\n",
       "      <td>34.197100</td>\n",
       "      <td>-106.782000</td>\n",
       "    </tr>\n",
       "    <tr>\n",
       "      <th>50%</th>\n",
       "      <td>7.088973e+09</td>\n",
       "      <td>9.500000e+03</td>\n",
       "      <td>2012.000000</td>\n",
       "      <td>9.330000e+04</td>\n",
       "      <td>NaN</td>\n",
       "      <td>39.077600</td>\n",
       "      <td>-88.100900</td>\n",
       "    </tr>\n",
       "    <tr>\n",
       "      <th>75%</th>\n",
       "      <td>7.092094e+09</td>\n",
       "      <td>1.792600e+04</td>\n",
       "      <td>2015.000000</td>\n",
       "      <td>1.377550e+05</td>\n",
       "      <td>NaN</td>\n",
       "      <td>42.449100</td>\n",
       "      <td>-81.219000</td>\n",
       "    </tr>\n",
       "    <tr>\n",
       "      <th>max</th>\n",
       "      <td>7.093537e+09</td>\n",
       "      <td>4.294967e+09</td>\n",
       "      <td>2021.000000</td>\n",
       "      <td>6.480922e+07</td>\n",
       "      <td>NaN</td>\n",
       "      <td>84.514800</td>\n",
       "      <td>161.016000</td>\n",
       "    </tr>\n",
       "  </tbody>\n",
       "</table>\n",
       "</div>"
      ],
      "text/plain": [
       "                 id         price           year      odometer  county  \\\n",
       "count  5.397590e+05  5.397590e+05  538772.000000  4.407830e+05     0.0   \n",
       "mean   7.087609e+09  1.954214e+05    2009.830982  1.008008e+05     NaN   \n",
       "std    5.234176e+06  2.208252e+07       9.161334  1.767058e+05     NaN   \n",
       "min    7.065765e+09  0.000000e+00       0.000000  0.000000e+00     NaN   \n",
       "25%    7.084240e+09  4.400000e+03    2007.000000  4.703850e+04     NaN   \n",
       "50%    7.088973e+09  9.500000e+03    2012.000000  9.330000e+04     NaN   \n",
       "75%    7.092094e+09  1.792600e+04    2015.000000  1.377550e+05     NaN   \n",
       "max    7.093537e+09  4.294967e+09    2021.000000  6.480922e+07     NaN   \n",
       "\n",
       "                 lat           long  \n",
       "count  530785.000000  530785.000000  \n",
       "mean       38.432128     -94.040501  \n",
       "std         5.916936      17.626658  \n",
       "min       -84.911400    -176.810000  \n",
       "25%        34.197100    -106.782000  \n",
       "50%        39.077600     -88.100900  \n",
       "75%        42.449100     -81.219000  \n",
       "max        84.514800     161.016000  "
      ]
     },
     "execution_count": 4,
     "metadata": {},
     "output_type": "execute_result"
    }
   ],
   "source": [
    "data.describe()"
   ]
  },
  {
   "cell_type": "code",
   "execution_count": 12,
   "metadata": {},
   "outputs": [
    {
     "data": {
      "text/plain": [
       "id              False\n",
       "url             False\n",
       "region          False\n",
       "region_url      False\n",
       "price           False\n",
       "year             True\n",
       "manufacturer     True\n",
       "model            True\n",
       "condition        True\n",
       "cylinders        True\n",
       "fuel             True\n",
       "odometer         True\n",
       "title_status     True\n",
       "transmission     True\n",
       "vin              True\n",
       "drive            True\n",
       "size             True\n",
       "type             True\n",
       "paint_color      True\n",
       "image_url        True\n",
       "description      True\n",
       "county           True\n",
       "state           False\n",
       "lat              True\n",
       "long             True\n",
       "dtype: bool"
      ]
     },
     "execution_count": 12,
     "metadata": {},
     "output_type": "execute_result"
    }
   ],
   "source": [
    "##Finding missing data in what col\n",
    "data.isnull().any()"
   ]
  },
  {
   "cell_type": "code",
   "execution_count": 10,
   "metadata": {},
   "outputs": [
    {
     "data": {
      "text/plain": [
       "id                   0\n",
       "url                  0\n",
       "region               0\n",
       "region_url           0\n",
       "price                0\n",
       "year               987\n",
       "manufacturer     23584\n",
       "model             8013\n",
       "condition       236052\n",
       "cylinders       218495\n",
       "fuel              3393\n",
       "odometer         98976\n",
       "title_status      2940\n",
       "transmission      3973\n",
       "vin             224410\n",
       "drive           155772\n",
       "size            371209\n",
       "type            147469\n",
       "paint_color     174239\n",
       "image_url           19\n",
       "description         21\n",
       "county          539759\n",
       "state                0\n",
       "lat               8974\n",
       "long              8974\n",
       "dtype: int64"
      ]
     },
     "execution_count": 10,
     "metadata": {},
     "output_type": "execute_result"
    }
   ],
   "source": [
    "#Total null in each col\n",
    "data.isnull().sum()"
   ]
  },
  {
   "cell_type": "code",
   "execution_count": 14,
   "metadata": {},
   "outputs": [
    {
     "data": {
      "text/plain": [
       "id              0.000000\n",
       "url             0.000000\n",
       "region          0.000000\n",
       "region_url      0.000000\n",
       "price           0.000000\n",
       "year            0.001829\n",
       "manufacturer    0.043694\n",
       "model           0.014846\n",
       "condition       0.437329\n",
       "cylinders       0.404801\n",
       "fuel            0.006286\n",
       "odometer        0.183371\n",
       "title_status    0.005447\n",
       "transmission    0.007361\n",
       "vin             0.415760\n",
       "drive           0.288595\n",
       "size            0.687731\n",
       "type            0.273213\n",
       "paint_color     0.322809\n",
       "image_url       0.000035\n",
       "description     0.000039\n",
       "county          1.000000\n",
       "state           0.000000\n",
       "lat             0.016626\n",
       "long            0.016626\n",
       "dtype: float64"
      ]
     },
     "execution_count": 14,
     "metadata": {},
     "output_type": "execute_result"
    }
   ],
   "source": [
    "#Percentage of null value\n",
    "data.isnull().mean()"
   ]
  },
  {
   "cell_type": "code",
   "execution_count": 23,
   "metadata": {},
   "outputs": [
    {
     "name": "stdout",
     "output_type": "stream",
     "text": [
      "<class 'pandas.core.frame.DataFrame'>\n",
      "RangeIndex: 539759 entries, 0 to 539758\n",
      "Data columns (total 20 columns):\n",
      " #   Column        Non-Null Count   Dtype  \n",
      "---  ------        --------------   -----  \n",
      " 0   id            539759 non-null  int64  \n",
      " 1   url           539759 non-null  object \n",
      " 2   region        539759 non-null  object \n",
      " 3   region_url    539759 non-null  object \n",
      " 4   price         539759 non-null  int64  \n",
      " 5   year          538772 non-null  float64\n",
      " 6   manufacturer  516175 non-null  object \n",
      " 7   model         531746 non-null  object \n",
      " 8   fuel          536366 non-null  object \n",
      " 9   odometer      440783 non-null  float64\n",
      " 10  title_status  536819 non-null  object \n",
      " 11  transmission  535786 non-null  object \n",
      " 12  drive         383987 non-null  object \n",
      " 13  type          392290 non-null  object \n",
      " 14  paint_color   365520 non-null  object \n",
      " 15  image_url     539740 non-null  object \n",
      " 16  description   539738 non-null  object \n",
      " 17  state         539759 non-null  object \n",
      " 18  lat           530785 non-null  float64\n",
      " 19  long          530785 non-null  float64\n",
      "dtypes: float64(4), int64(2), object(14)\n",
      "memory usage: 82.4+ MB\n"
     ]
    }
   ],
   "source": [
    "#Dropping null col\n",
    "#thresh nghia la phai co it nhat 60%*len(data) la Non-nan value moi giu lai\n",
    "thresh = len(data)*.6\n",
    "data.dropna(thresh=thresh,axis=1).info()"
   ]
  },
  {
   "cell_type": "code",
   "execution_count": 24,
   "metadata": {},
   "outputs": [
    {
     "data": {
      "text/plain": [
       "323855.39999999997"
      ]
     },
     "execution_count": 24,
     "metadata": {},
     "output_type": "execute_result"
    }
   ],
   "source": [
    "#thresh trong dropna nghia la Non-nan value > 323855.39999999997 moi giu\n",
    "thresh"
   ]
  },
  {
   "cell_type": "code",
   "execution_count": 29,
   "metadata": {},
   "outputs": [
    {
     "name": "stdout",
     "output_type": "stream",
     "text": [
      "<class 'pandas.core.frame.DataFrame'>\n",
      "Int64Index: 412465 entries, 0 to 539758\n",
      "Data columns (total 25 columns):\n",
      " #   Column        Non-Null Count   Dtype  \n",
      "---  ------        --------------   -----  \n",
      " 0   id            412465 non-null  int64  \n",
      " 1   url           412465 non-null  object \n",
      " 2   region        412465 non-null  object \n",
      " 3   region_url    412465 non-null  object \n",
      " 4   price         412465 non-null  int64  \n",
      " 5   year          412179 non-null  float64\n",
      " 6   manufacturer  400610 non-null  object \n",
      " 7   model         409061 non-null  object \n",
      " 8   condition     279293 non-null  object \n",
      " 9   cylinders     301525 non-null  object \n",
      " 10  fuel          410612 non-null  object \n",
      " 11  odometer      383479 non-null  float64\n",
      " 12  title_status  410969 non-null  object \n",
      " 13  transmission  410108 non-null  object \n",
      " 14  vin           283544 non-null  object \n",
      " 15  drive         362495 non-null  object \n",
      " 16  size          167259 non-null  object \n",
      " 17  type          373032 non-null  object \n",
      " 18  paint_color   346967 non-null  object \n",
      " 19  image_url     412465 non-null  object \n",
      " 20  description   412464 non-null  object \n",
      " 21  county        0 non-null       float64\n",
      " 22  state         412465 non-null  object \n",
      " 23  lat           408082 non-null  float64\n",
      " 24  long          408082 non-null  float64\n",
      "dtypes: float64(5), int64(2), object(18)\n",
      "memory usage: 81.8+ MB\n"
     ]
    }
   ],
   "source": [
    "#drop row de co square matrix\n",
    "data.dropna(0,thresh=20).info()"
   ]
  },
  {
   "cell_type": "code",
   "execution_count": 33,
   "metadata": {},
   "outputs": [
    {
     "data": {
      "text/plain": [
       "False"
      ]
     },
     "execution_count": 33,
     "metadata": {},
     "output_type": "execute_result"
    }
   ],
   "source": [
    "#fill nan value with median, mean, quartile. Co the anh huong den quyet dinh\n",
    "##xai median\n",
    "data.odometer.fillna(data.odometer.median()).isnull().any()\n",
    "##double check "
   ]
  },
  {
   "cell_type": "code",
   "execution_count": 43,
   "metadata": {},
   "outputs": [
    {
     "data": {
      "text/plain": [
       "0    2012 acura tl base 4dr sedan     offered by: b...\n",
       "1    bmw 3 series 335i convertible navigation dakot...\n",
       "2    2011 jaguar xf premium - estate sale. retired ...\n",
       "3    2004 honda element lx 4dr suv     offered by: ...\n",
       "4    shop indoors, heated showroom!!!www.gretnaauto...\n",
       "Name: description, dtype: object"
      ]
     },
     "execution_count": 43,
     "metadata": {},
     "output_type": "execute_result"
    }
   ],
   "source": [
    "#Standardize text for categorical data lower or uppercase\n",
    "#co numerical data in description col phai su ly\n",
    "data.description.head().apply(lambda x: x.lower()).head()\n"
   ]
  },
  {
   "cell_type": "code",
   "execution_count": 45,
   "metadata": {},
   "outputs": [
    {
     "data": {
      "text/plain": [
       "0         2012 acura tl base 4dr sedan     offered by: b...\n",
       "1         bmw 3 series 335i convertible navigation dakot...\n",
       "2         2011 jaguar xf premium - estate sale. retired ...\n",
       "3         2004 honda element lx 4dr suv     offered by: ...\n",
       "4         shop indoors, heated showroom!!!www.gretnaauto...\n",
       "                                ...                        \n",
       "539754    selling my 2008 range rover - it's an extra ve...\n",
       "539755    2016 nissan frontier sv v6 4x4 4dr king cab 6....\n",
       "539756    2010 bmw 3 series 335i 2dr coupe     offered b...\n",
       "539757    2015 dodge dart se 4dr sedan     offered by: b...\n",
       "539758    08 gmc acadia all wheel drive four doorcall ☏ ...\n",
       "Name: description, Length: 539759, dtype: object"
      ]
     },
     "execution_count": 45,
     "metadata": {},
     "output_type": "execute_result"
    }
   ],
   "source": [
    "#int64 to string\n",
    "data.description.astype(str).apply(lambda x: x.lower())"
   ]
  },
  {
   "cell_type": "code",
   "execution_count": 46,
   "metadata": {},
   "outputs": [
    {
     "data": {
      "text/plain": [
       "0            NaN\n",
       "1    6 cylinders\n",
       "2            NaN\n",
       "3            NaN\n",
       "4            NaN\n",
       "Name: cylinders, dtype: object"
      ]
     },
     "execution_count": 46,
     "metadata": {},
     "output_type": "execute_result"
    }
   ],
   "source": [
    "data.cylinders.head()"
   ]
  },
  {
   "cell_type": "code",
   "execution_count": 63,
   "metadata": {},
   "outputs": [
    {
     "data": {
      "text/plain": [
       "nan      218495\n",
       "6        116713\n",
       "8        100664\n",
       "4         96429\n",
       "5          2728\n",
       "10         2487\n",
       "other      1464\n",
       "3           571\n",
       "12          208\n",
       "Name: cylinders, dtype: int64"
      ]
     },
     "execution_count": 63,
     "metadata": {},
     "output_type": "execute_result"
    }
   ],
   "source": [
    "data.cylinders.value_counts()"
   ]
  },
  {
   "cell_type": "code",
   "execution_count": 43,
   "metadata": {},
   "outputs": [],
   "source": [
    "#thay cylinders voi khoang trang, co strip() de loai space sau do\n",
    "data.cylinders=data.cylinders.apply(lambda x: str(x).replace('cylinders',' ').strip())"
   ]
  },
  {
   "cell_type": "code",
   "execution_count": 44,
   "metadata": {},
   "outputs": [],
   "source": [
    "#doi cylinders sang type int va other to nan\n",
    "data.cylinders = pd.to_numeric(data.cylinders,errors='coerce')"
   ]
  },
  {
   "cell_type": "code",
   "execution_count": 45,
   "metadata": {},
   "outputs": [
    {
     "data": {
      "text/plain": [
       "NaN     219959\n",
       "6.0     116713\n",
       "8.0     100664\n",
       "4.0      96429\n",
       "5.0       2728\n",
       "10.0      2487\n",
       "3.0        571\n",
       "12.0       208\n",
       "Name: cylinders, dtype: int64"
      ]
     },
     "execution_count": 45,
     "metadata": {},
     "output_type": "execute_result"
    }
   ],
   "source": [
    "#da doi other to nan\n",
    "data.cylinders.value_counts(dropna=False)"
   ]
  },
  {
   "cell_type": "code",
   "execution_count": 46,
   "metadata": {},
   "outputs": [],
   "source": [
    "#fillan for cylinders\n",
    "data.cylinders.fillna(data.cylinders.mean(),inplace=True)"
   ]
  },
  {
   "cell_type": "code",
   "execution_count": 47,
   "metadata": {},
   "outputs": [
    {
     "data": {
      "text/plain": [
       "6.047608     219959\n",
       "6.000000     116713\n",
       "8.000000     100664\n",
       "4.000000      96429\n",
       "5.000000       2728\n",
       "10.000000      2487\n",
       "3.000000        571\n",
       "12.000000       208\n",
       "Name: cylinders, dtype: int64"
      ]
     },
     "execution_count": 47,
     "metadata": {},
     "output_type": "execute_result"
    }
   ],
   "source": [
    "data.cylinders.value_counts(dropna=False)"
   ]
  },
  {
   "cell_type": "code",
   "execution_count": 4,
   "metadata": {},
   "outputs": [
    {
     "data": {
      "text/plain": [
       "Index(['id', 'url', 'region', 'region_url', 'price', 'year', 'manufacturer',\n",
       "       'model', 'condition', 'cylinders', 'fuel', 'odometer', 'title_status',\n",
       "       'transmission', 'vin', 'drive', 'size', 'type', 'paint_color',\n",
       "       'image_url', 'description', 'county', 'state', 'lat', 'long'],\n",
       "      dtype='object')"
      ]
     },
     "execution_count": 4,
     "metadata": {},
     "output_type": "execute_result"
    }
   ],
   "source": [
    "data.columns"
   ]
  },
  {
   "cell_type": "code",
   "execution_count": 13,
   "metadata": {},
   "outputs": [
    {
     "data": {
      "text/plain": [
       "<matplotlib.axes._subplots.AxesSubplot at 0x1915cf60c70>"
      ]
     },
     "execution_count": 13,
     "metadata": {},
     "output_type": "execute_result"
    },
    {
     "data": {
      "image/png": "[encoded data removed]",
      "text/plain": [
       "<Figure size 432x288 with 1 Axes>"
      ]
     },
     "metadata": {
      "needs_background": "light"
     },
     "output_type": "display_data"
    }
   ],
   "source": [
    "#Boxplot, histogram 2 graph tot nhat de examine data\n",
    "data.boxplot('odometer')"
   ]
  },
  {
   "cell_type": "code",
   "execution_count": 14,
   "metadata": {},
   "outputs": [
    {
     "data": {
      "text/plain": [
       "<matplotlib.axes._subplots.AxesSubplot at 0x1915d228700>"
      ]
     },
     "execution_count": 14,
     "metadata": {},
     "output_type": "execute_result"
    },
    {
     "data": {
      "image/png": "[encoded data removed]",
      "text/plain": [
       "<Figure size 432x288 with 1 Axes>"
      ]
     },
     "metadata": {
      "needs_background": "light"
     },
     "output_type": "display_data"
    }
   ],
   "source": [
    "data.boxplot('price')"
   ]
  },
  {
   "cell_type": "code",
   "execution_count": 15,
   "metadata": {},
   "outputs": [],
   "source": [
    "#2 graph tren cho thay skew data bi sai o mot so vung\n",
    "#co the lay z score tung vung do nhap sai du lieu"
   ]
  },
  {
   "cell_type": "code",
   "execution_count": 18,
   "metadata": {},
   "outputs": [
    {
     "data": {
      "text/plain": [
       "array([[<matplotlib.axes._subplots.AxesSubplot object at 0x000001915D085670>]],\n",
       "      dtype=object)"
      ]
     },
     "execution_count": 18,
     "metadata": {},
     "output_type": "execute_result"
    },
    {
     "data": {
      "image/png": "[encoded data removed]",
      "text/plain": [
       "<Figure size 432x288 with 1 Axes>"
      ]
     },
     "metadata": {
      "needs_background": "light"
     },
     "output_type": "display_data"
    }
   ],
   "source": [
    "#Xai histogram chia data vao tung range\n",
    "data.hist('odometer')"
   ]
  },
  {
   "cell_type": "code",
   "execution_count": 22,
   "metadata": {},
   "outputs": [
    {
     "data": {
      "text/plain": [
       "dtype('float64')"
      ]
     },
     "execution_count": 22,
     "metadata": {},
     "output_type": "execute_result"
    }
   ],
   "source": [
    "data.odometer.dtypes"
   ]
  },
  {
   "cell_type": "code",
   "execution_count": 24,
   "metadata": {},
   "outputs": [
    {
     "data": {
      "text/html": [
       "<div>\n",
       "<style scoped>\n",
       "    .dataframe tbody tr th:only-of-type {\n",
       "        vertical-align: middle;\n",
       "    }\n",
       "\n",
       "    .dataframe tbody tr th {\n",
       "        vertical-align: top;\n",
       "    }\n",
       "\n",
       "    .dataframe thead th {\n",
       "        text-align: right;\n",
       "    }\n",
       "</style>\n",
       "<table border=\"1\" class=\"dataframe\">\n",
       "  <thead>\n",
       "    <tr style=\"text-align: right;\">\n",
       "      <th></th>\n",
       "      <th>id</th>\n",
       "      <th>price</th>\n",
       "      <th>year</th>\n",
       "      <th>odometer</th>\n",
       "      <th>county</th>\n",
       "      <th>lat</th>\n",
       "      <th>long</th>\n",
       "    </tr>\n",
       "  </thead>\n",
       "  <tbody>\n",
       "    <tr>\n",
       "      <th>0</th>\n",
       "      <td>7088746062</td>\n",
       "      <td>10299</td>\n",
       "      <td>2012.0</td>\n",
       "      <td>90186.0</td>\n",
       "      <td>NaN</td>\n",
       "      <td>35.7636</td>\n",
       "      <td>-78.7443</td>\n",
       "    </tr>\n",
       "    <tr>\n",
       "      <th>1</th>\n",
       "      <td>7088745301</td>\n",
       "      <td>0</td>\n",
       "      <td>2011.0</td>\n",
       "      <td>115120.0</td>\n",
       "      <td>NaN</td>\n",
       "      <td>NaN</td>\n",
       "      <td>NaN</td>\n",
       "    </tr>\n",
       "    <tr>\n",
       "      <th>2</th>\n",
       "      <td>7088744126</td>\n",
       "      <td>9500</td>\n",
       "      <td>2011.0</td>\n",
       "      <td>85000.0</td>\n",
       "      <td>NaN</td>\n",
       "      <td>36.1032</td>\n",
       "      <td>-79.8794</td>\n",
       "    </tr>\n",
       "    <tr>\n",
       "      <th>3</th>\n",
       "      <td>7088743681</td>\n",
       "      <td>3995</td>\n",
       "      <td>2004.0</td>\n",
       "      <td>212526.0</td>\n",
       "      <td>NaN</td>\n",
       "      <td>35.7636</td>\n",
       "      <td>-78.7443</td>\n",
       "    </tr>\n",
       "    <tr>\n",
       "      <th>4</th>\n",
       "      <td>7074612539</td>\n",
       "      <td>41988</td>\n",
       "      <td>2016.0</td>\n",
       "      <td>NaN</td>\n",
       "      <td>NaN</td>\n",
       "      <td>41.1345</td>\n",
       "      <td>-96.2458</td>\n",
       "    </tr>\n",
       "    <tr>\n",
       "      <th>...</th>\n",
       "      <td>...</td>\n",
       "      <td>...</td>\n",
       "      <td>...</td>\n",
       "      <td>...</td>\n",
       "      <td>...</td>\n",
       "      <td>...</td>\n",
       "      <td>...</td>\n",
       "    </tr>\n",
       "    <tr>\n",
       "      <th>539754</th>\n",
       "      <td>7076296329</td>\n",
       "      <td>7950</td>\n",
       "      <td>2008.0</td>\n",
       "      <td>NaN</td>\n",
       "      <td>NaN</td>\n",
       "      <td>42.9506</td>\n",
       "      <td>-76.4254</td>\n",
       "    </tr>\n",
       "    <tr>\n",
       "      <th>539755</th>\n",
       "      <td>7088752165</td>\n",
       "      <td>13995</td>\n",
       "      <td>2016.0</td>\n",
       "      <td>97545.0</td>\n",
       "      <td>NaN</td>\n",
       "      <td>35.7636</td>\n",
       "      <td>-78.7443</td>\n",
       "    </tr>\n",
       "    <tr>\n",
       "      <th>539756</th>\n",
       "      <td>7088749883</td>\n",
       "      <td>10995</td>\n",
       "      <td>2010.0</td>\n",
       "      <td>80328.0</td>\n",
       "      <td>NaN</td>\n",
       "      <td>35.7636</td>\n",
       "      <td>-78.7443</td>\n",
       "    </tr>\n",
       "    <tr>\n",
       "      <th>539757</th>\n",
       "      <td>7088747986</td>\n",
       "      <td>6495</td>\n",
       "      <td>2015.0</td>\n",
       "      <td>83521.0</td>\n",
       "      <td>NaN</td>\n",
       "      <td>35.7636</td>\n",
       "      <td>-78.7443</td>\n",
       "    </tr>\n",
       "    <tr>\n",
       "      <th>539758</th>\n",
       "      <td>7082122917</td>\n",
       "      <td>8990</td>\n",
       "      <td>2008.0</td>\n",
       "      <td>168000.0</td>\n",
       "      <td>NaN</td>\n",
       "      <td>46.4500</td>\n",
       "      <td>-95.1247</td>\n",
       "    </tr>\n",
       "  </tbody>\n",
       "</table>\n",
       "<p>539759 rows × 7 columns</p>\n",
       "</div>"
      ],
      "text/plain": [
       "                id  price    year  odometer  county      lat     long\n",
       "0       7088746062  10299  2012.0   90186.0     NaN  35.7636 -78.7443\n",
       "1       7088745301      0  2011.0  115120.0     NaN      NaN      NaN\n",
       "2       7088744126   9500  2011.0   85000.0     NaN  36.1032 -79.8794\n",
       "3       7088743681   3995  2004.0  212526.0     NaN  35.7636 -78.7443\n",
       "4       7074612539  41988  2016.0       NaN     NaN  41.1345 -96.2458\n",
       "...            ...    ...     ...       ...     ...      ...      ...\n",
       "539754  7076296329   7950  2008.0       NaN     NaN  42.9506 -76.4254\n",
       "539755  7088752165  13995  2016.0   97545.0     NaN  35.7636 -78.7443\n",
       "539756  7088749883  10995  2010.0   80328.0     NaN  35.7636 -78.7443\n",
       "539757  7088747986   6495  2015.0   83521.0     NaN  35.7636 -78.7443\n",
       "539758  7082122917   8990  2008.0  168000.0     NaN  46.4500 -95.1247\n",
       "\n",
       "[539759 rows x 7 columns]"
      ]
     },
     "execution_count": 24,
     "metadata": {},
     "output_type": "execute_result"
    }
   ],
   "source": [
    "#clean odometer \n",
    "#lay tat ca du lieu so tu df data\n",
    "numeric = data._get_numeric_data()\n",
    "numeric"
   ]
  },
  {
   "cell_type": "code",
   "execution_count": 25,
   "metadata": {},
   "outputs": [],
   "source": [
    "#Import module xai vs so \n",
    "from scipy import stats\n",
    "import numpy as np"
   ]
  },
  {
   "cell_type": "code",
   "execution_count": 28,
   "metadata": {},
   "outputs": [],
   "source": [
    "data_outlier = data[(data.price<data.price.quantile(.9995))&(data.price>data.price.quantile(.005))]"
   ]
  },
  {
   "cell_type": "code",
   "execution_count": 29,
   "metadata": {},
   "outputs": [
    {
     "data": {
      "text/html": [
       "<div>\n",
       "<style scoped>\n",
       "    .dataframe tbody tr th:only-of-type {\n",
       "        vertical-align: middle;\n",
       "    }\n",
       "\n",
       "    .dataframe tbody tr th {\n",
       "        vertical-align: top;\n",
       "    }\n",
       "\n",
       "    .dataframe thead th {\n",
       "        text-align: right;\n",
       "    }\n",
       "</style>\n",
       "<table border=\"1\" class=\"dataframe\">\n",
       "  <thead>\n",
       "    <tr style=\"text-align: right;\">\n",
       "      <th></th>\n",
       "      <th>id</th>\n",
       "      <th>url</th>\n",
       "      <th>region</th>\n",
       "      <th>region_url</th>\n",
       "      <th>price</th>\n",
       "      <th>year</th>\n",
       "      <th>manufacturer</th>\n",
       "      <th>model</th>\n",
       "      <th>condition</th>\n",
       "      <th>cylinders</th>\n",
       "      <th>...</th>\n",
       "      <th>drive</th>\n",
       "      <th>size</th>\n",
       "      <th>type</th>\n",
       "      <th>paint_color</th>\n",
       "      <th>image_url</th>\n",
       "      <th>description</th>\n",
       "      <th>county</th>\n",
       "      <th>state</th>\n",
       "      <th>lat</th>\n",
       "      <th>long</th>\n",
       "    </tr>\n",
       "  </thead>\n",
       "  <tbody>\n",
       "    <tr>\n",
       "      <th>0</th>\n",
       "      <td>7088746062</td>\n",
       "      <td>https://greensboro.craigslist.org/ctd/d/cary-2...</td>\n",
       "      <td>greensboro</td>\n",
       "      <td>https://greensboro.craigslist.org</td>\n",
       "      <td>10299</td>\n",
       "      <td>2012.0</td>\n",
       "      <td>acura</td>\n",
       "      <td>tl</td>\n",
       "      <td>NaN</td>\n",
       "      <td>NaN</td>\n",
       "      <td>...</td>\n",
       "      <td>NaN</td>\n",
       "      <td>NaN</td>\n",
       "      <td>other</td>\n",
       "      <td>blue</td>\n",
       "      <td>https://images.craigslist.org/01414_3LIXs9EO33...</td>\n",
       "      <td>2012 Acura TL Base 4dr Sedan     Offered by: B...</td>\n",
       "      <td>NaN</td>\n",
       "      <td>nc</td>\n",
       "      <td>35.7636</td>\n",
       "      <td>-78.7443</td>\n",
       "    </tr>\n",
       "    <tr>\n",
       "      <th>2</th>\n",
       "      <td>7088744126</td>\n",
       "      <td>https://greensboro.craigslist.org/cto/d/greens...</td>\n",
       "      <td>greensboro</td>\n",
       "      <td>https://greensboro.craigslist.org</td>\n",
       "      <td>9500</td>\n",
       "      <td>2011.0</td>\n",
       "      <td>jaguar</td>\n",
       "      <td>xf</td>\n",
       "      <td>excellent</td>\n",
       "      <td>NaN</td>\n",
       "      <td>...</td>\n",
       "      <td>NaN</td>\n",
       "      <td>NaN</td>\n",
       "      <td>NaN</td>\n",
       "      <td>blue</td>\n",
       "      <td>https://images.craigslist.org/00505_f22HGItCRp...</td>\n",
       "      <td>2011 jaguar XF premium - estate sale. Retired ...</td>\n",
       "      <td>NaN</td>\n",
       "      <td>nc</td>\n",
       "      <td>36.1032</td>\n",
       "      <td>-79.8794</td>\n",
       "    </tr>\n",
       "    <tr>\n",
       "      <th>3</th>\n",
       "      <td>7088743681</td>\n",
       "      <td>https://greensboro.craigslist.org/ctd/d/cary-2...</td>\n",
       "      <td>greensboro</td>\n",
       "      <td>https://greensboro.craigslist.org</td>\n",
       "      <td>3995</td>\n",
       "      <td>2004.0</td>\n",
       "      <td>honda</td>\n",
       "      <td>element</td>\n",
       "      <td>NaN</td>\n",
       "      <td>NaN</td>\n",
       "      <td>...</td>\n",
       "      <td>fwd</td>\n",
       "      <td>NaN</td>\n",
       "      <td>SUV</td>\n",
       "      <td>orange</td>\n",
       "      <td>https://images.craigslist.org/00E0E_eAUnhFF86M...</td>\n",
       "      <td>2004 Honda Element LX 4dr SUV     Offered by: ...</td>\n",
       "      <td>NaN</td>\n",
       "      <td>nc</td>\n",
       "      <td>35.7636</td>\n",
       "      <td>-78.7443</td>\n",
       "    </tr>\n",
       "    <tr>\n",
       "      <th>4</th>\n",
       "      <td>7074612539</td>\n",
       "      <td>https://lincoln.craigslist.org/ctd/d/gretna-20...</td>\n",
       "      <td>lincoln</td>\n",
       "      <td>https://lincoln.craigslist.org</td>\n",
       "      <td>41988</td>\n",
       "      <td>2016.0</td>\n",
       "      <td>chevrolet</td>\n",
       "      <td>silverado k2500hd</td>\n",
       "      <td>NaN</td>\n",
       "      <td>NaN</td>\n",
       "      <td>...</td>\n",
       "      <td>NaN</td>\n",
       "      <td>NaN</td>\n",
       "      <td>NaN</td>\n",
       "      <td>NaN</td>\n",
       "      <td>https://images.craigslist.org/00S0S_8msT7RQquO...</td>\n",
       "      <td>Shop Indoors, Heated Showroom!!!www.gretnaauto...</td>\n",
       "      <td>NaN</td>\n",
       "      <td>ne</td>\n",
       "      <td>41.1345</td>\n",
       "      <td>-96.2458</td>\n",
       "    </tr>\n",
       "    <tr>\n",
       "      <th>5</th>\n",
       "      <td>7088741557</td>\n",
       "      <td>https://greensboro.craigslist.org/ctd/d/cary-2...</td>\n",
       "      <td>greensboro</td>\n",
       "      <td>https://greensboro.craigslist.org</td>\n",
       "      <td>12995</td>\n",
       "      <td>2015.0</td>\n",
       "      <td>kia</td>\n",
       "      <td>sportage</td>\n",
       "      <td>NaN</td>\n",
       "      <td>NaN</td>\n",
       "      <td>...</td>\n",
       "      <td>4wd</td>\n",
       "      <td>NaN</td>\n",
       "      <td>wagon</td>\n",
       "      <td>NaN</td>\n",
       "      <td>https://images.craigslist.org/00000_2qdQpZA2hK...</td>\n",
       "      <td>2015 Kia Sportage EX AWD 4dr SUV     Offered b...</td>\n",
       "      <td>NaN</td>\n",
       "      <td>nc</td>\n",
       "      <td>35.7636</td>\n",
       "      <td>-78.7443</td>\n",
       "    </tr>\n",
       "    <tr>\n",
       "      <th>...</th>\n",
       "      <td>...</td>\n",
       "      <td>...</td>\n",
       "      <td>...</td>\n",
       "      <td>...</td>\n",
       "      <td>...</td>\n",
       "      <td>...</td>\n",
       "      <td>...</td>\n",
       "      <td>...</td>\n",
       "      <td>...</td>\n",
       "      <td>...</td>\n",
       "      <td>...</td>\n",
       "      <td>...</td>\n",
       "      <td>...</td>\n",
       "      <td>...</td>\n",
       "      <td>...</td>\n",
       "      <td>...</td>\n",
       "      <td>...</td>\n",
       "      <td>...</td>\n",
       "      <td>...</td>\n",
       "      <td>...</td>\n",
       "      <td>...</td>\n",
       "    </tr>\n",
       "    <tr>\n",
       "      <th>539754</th>\n",
       "      <td>7076296329</td>\n",
       "      <td>https://syracuse.craigslist.org/cto/d/mottvill...</td>\n",
       "      <td>syracuse</td>\n",
       "      <td>https://syracuse.craigslist.org</td>\n",
       "      <td>7950</td>\n",
       "      <td>2008.0</td>\n",
       "      <td>rover</td>\n",
       "      <td>NaN</td>\n",
       "      <td>excellent</td>\n",
       "      <td>8 cylinders</td>\n",
       "      <td>...</td>\n",
       "      <td>4wd</td>\n",
       "      <td>NaN</td>\n",
       "      <td>NaN</td>\n",
       "      <td>NaN</td>\n",
       "      <td>https://images.craigslist.org/00T0T_86RgcbSIhT...</td>\n",
       "      <td>Selling my 2008 Range Rover - it's an extra ve...</td>\n",
       "      <td>NaN</td>\n",
       "      <td>ny</td>\n",
       "      <td>42.9506</td>\n",
       "      <td>-76.4254</td>\n",
       "    </tr>\n",
       "    <tr>\n",
       "      <th>539755</th>\n",
       "      <td>7088752165</td>\n",
       "      <td>https://greensboro.craigslist.org/ctd/d/cary-2...</td>\n",
       "      <td>greensboro</td>\n",
       "      <td>https://greensboro.craigslist.org</td>\n",
       "      <td>13995</td>\n",
       "      <td>2016.0</td>\n",
       "      <td>nissan</td>\n",
       "      <td>frontier</td>\n",
       "      <td>NaN</td>\n",
       "      <td>NaN</td>\n",
       "      <td>...</td>\n",
       "      <td>4wd</td>\n",
       "      <td>NaN</td>\n",
       "      <td>pickup</td>\n",
       "      <td>silver</td>\n",
       "      <td>https://images.craigslist.org/00R0R_2FiHQj8mDm...</td>\n",
       "      <td>2016 Nissan Frontier SV V6 4x4 4dr King Cab 6....</td>\n",
       "      <td>NaN</td>\n",
       "      <td>nc</td>\n",
       "      <td>35.7636</td>\n",
       "      <td>-78.7443</td>\n",
       "    </tr>\n",
       "    <tr>\n",
       "      <th>539756</th>\n",
       "      <td>7088749883</td>\n",
       "      <td>https://greensboro.craigslist.org/ctd/d/cary-2...</td>\n",
       "      <td>greensboro</td>\n",
       "      <td>https://greensboro.craigslist.org</td>\n",
       "      <td>10995</td>\n",
       "      <td>2010.0</td>\n",
       "      <td>bmw</td>\n",
       "      <td>335i</td>\n",
       "      <td>NaN</td>\n",
       "      <td>NaN</td>\n",
       "      <td>...</td>\n",
       "      <td>NaN</td>\n",
       "      <td>compact</td>\n",
       "      <td>coupe</td>\n",
       "      <td>black</td>\n",
       "      <td>https://images.craigslist.org/00v0v_3sp1G5hNhk...</td>\n",
       "      <td>2010 BMW 3 Series 335i 2dr Coupe     Offered b...</td>\n",
       "      <td>NaN</td>\n",
       "      <td>nc</td>\n",
       "      <td>35.7636</td>\n",
       "      <td>-78.7443</td>\n",
       "    </tr>\n",
       "    <tr>\n",
       "      <th>539757</th>\n",
       "      <td>7088747986</td>\n",
       "      <td>https://greensboro.craigslist.org/ctd/d/cary-2...</td>\n",
       "      <td>greensboro</td>\n",
       "      <td>https://greensboro.craigslist.org</td>\n",
       "      <td>6495</td>\n",
       "      <td>2015.0</td>\n",
       "      <td>dodge</td>\n",
       "      <td>dart</td>\n",
       "      <td>NaN</td>\n",
       "      <td>NaN</td>\n",
       "      <td>...</td>\n",
       "      <td>fwd</td>\n",
       "      <td>NaN</td>\n",
       "      <td>sedan</td>\n",
       "      <td>red</td>\n",
       "      <td>https://images.craigslist.org/00101_6orUUSDpdh...</td>\n",
       "      <td>2015 Dodge Dart SE 4dr Sedan     Offered by: B...</td>\n",
       "      <td>NaN</td>\n",
       "      <td>nc</td>\n",
       "      <td>35.7636</td>\n",
       "      <td>-78.7443</td>\n",
       "    </tr>\n",
       "    <tr>\n",
       "      <th>539758</th>\n",
       "      <td>7082122917</td>\n",
       "      <td>https://stcloud.craigslist.org/ctd/d/wadena-20...</td>\n",
       "      <td>st cloud</td>\n",
       "      <td>https://stcloud.craigslist.org</td>\n",
       "      <td>8990</td>\n",
       "      <td>2008.0</td>\n",
       "      <td>gmc</td>\n",
       "      <td>acadia</td>\n",
       "      <td>NaN</td>\n",
       "      <td>NaN</td>\n",
       "      <td>...</td>\n",
       "      <td>NaN</td>\n",
       "      <td>NaN</td>\n",
       "      <td>SUV</td>\n",
       "      <td>white</td>\n",
       "      <td>https://images.craigslist.org/00t0t_2ulWVUHDZW...</td>\n",
       "      <td>08 GMC Acadia all wheel drive four doorCall ☏ ...</td>\n",
       "      <td>NaN</td>\n",
       "      <td>mn</td>\n",
       "      <td>46.4500</td>\n",
       "      <td>-95.1247</td>\n",
       "    </tr>\n",
       "  </tbody>\n",
       "</table>\n",
       "<p>494800 rows × 25 columns</p>\n",
       "</div>"
      ],
      "text/plain": [
       "                id                                                url  \\\n",
       "0       7088746062  https://greensboro.craigslist.org/ctd/d/cary-2...   \n",
       "2       7088744126  https://greensboro.craigslist.org/cto/d/greens...   \n",
       "3       7088743681  https://greensboro.craigslist.org/ctd/d/cary-2...   \n",
       "4       7074612539  https://lincoln.craigslist.org/ctd/d/gretna-20...   \n",
       "5       7088741557  https://greensboro.craigslist.org/ctd/d/cary-2...   \n",
       "...            ...                                                ...   \n",
       "539754  7076296329  https://syracuse.craigslist.org/cto/d/mottvill...   \n",
       "539755  7088752165  https://greensboro.craigslist.org/ctd/d/cary-2...   \n",
       "539756  7088749883  https://greensboro.craigslist.org/ctd/d/cary-2...   \n",
       "539757  7088747986  https://greensboro.craigslist.org/ctd/d/cary-2...   \n",
       "539758  7082122917  https://stcloud.craigslist.org/ctd/d/wadena-20...   \n",
       "\n",
       "            region                         region_url  price    year  \\\n",
       "0       greensboro  https://greensboro.craigslist.org  10299  2012.0   \n",
       "2       greensboro  https://greensboro.craigslist.org   9500  2011.0   \n",
       "3       greensboro  https://greensboro.craigslist.org   3995  2004.0   \n",
       "4          lincoln     https://lincoln.craigslist.org  41988  2016.0   \n",
       "5       greensboro  https://greensboro.craigslist.org  12995  2015.0   \n",
       "...            ...                                ...    ...     ...   \n",
       "539754    syracuse    https://syracuse.craigslist.org   7950  2008.0   \n",
       "539755  greensboro  https://greensboro.craigslist.org  13995  2016.0   \n",
       "539756  greensboro  https://greensboro.craigslist.org  10995  2010.0   \n",
       "539757  greensboro  https://greensboro.craigslist.org   6495  2015.0   \n",
       "539758    st cloud     https://stcloud.craigslist.org   8990  2008.0   \n",
       "\n",
       "       manufacturer              model  condition    cylinders  ... drive  \\\n",
       "0             acura                 tl        NaN          NaN  ...   NaN   \n",
       "2            jaguar                 xf  excellent          NaN  ...   NaN   \n",
       "3             honda            element        NaN          NaN  ...   fwd   \n",
       "4         chevrolet  silverado k2500hd        NaN          NaN  ...   NaN   \n",
       "5               kia           sportage        NaN          NaN  ...   4wd   \n",
       "...             ...                ...        ...          ...  ...   ...   \n",
       "539754        rover                NaN  excellent  8 cylinders  ...   4wd   \n",
       "539755       nissan           frontier        NaN          NaN  ...   4wd   \n",
       "539756          bmw               335i        NaN          NaN  ...   NaN   \n",
       "539757        dodge               dart        NaN          NaN  ...   fwd   \n",
       "539758          gmc             acadia        NaN          NaN  ...   NaN   \n",
       "\n",
       "           size    type paint_color  \\\n",
       "0           NaN   other        blue   \n",
       "2           NaN     NaN        blue   \n",
       "3           NaN     SUV      orange   \n",
       "4           NaN     NaN         NaN   \n",
       "5           NaN   wagon         NaN   \n",
       "...         ...     ...         ...   \n",
       "539754      NaN     NaN         NaN   \n",
       "539755      NaN  pickup      silver   \n",
       "539756  compact   coupe       black   \n",
       "539757      NaN   sedan         red   \n",
       "539758      NaN     SUV       white   \n",
       "\n",
       "                                                image_url  \\\n",
       "0       https://images.craigslist.org/01414_3LIXs9EO33...   \n",
       "2       https://images.craigslist.org/00505_f22HGItCRp...   \n",
       "3       https://images.craigslist.org/00E0E_eAUnhFF86M...   \n",
       "4       https://images.craigslist.org/00S0S_8msT7RQquO...   \n",
       "5       https://images.craigslist.org/00000_2qdQpZA2hK...   \n",
       "...                                                   ...   \n",
       "539754  https://images.craigslist.org/00T0T_86RgcbSIhT...   \n",
       "539755  https://images.craigslist.org/00R0R_2FiHQj8mDm...   \n",
       "539756  https://images.craigslist.org/00v0v_3sp1G5hNhk...   \n",
       "539757  https://images.craigslist.org/00101_6orUUSDpdh...   \n",
       "539758  https://images.craigslist.org/00t0t_2ulWVUHDZW...   \n",
       "\n",
       "                                              description county state  \\\n",
       "0       2012 Acura TL Base 4dr Sedan     Offered by: B...    NaN    nc   \n",
       "2       2011 jaguar XF premium - estate sale. Retired ...    NaN    nc   \n",
       "3       2004 Honda Element LX 4dr SUV     Offered by: ...    NaN    nc   \n",
       "4       Shop Indoors, Heated Showroom!!!www.gretnaauto...    NaN    ne   \n",
       "5       2015 Kia Sportage EX AWD 4dr SUV     Offered b...    NaN    nc   \n",
       "...                                                   ...    ...   ...   \n",
       "539754  Selling my 2008 Range Rover - it's an extra ve...    NaN    ny   \n",
       "539755  2016 Nissan Frontier SV V6 4x4 4dr King Cab 6....    NaN    nc   \n",
       "539756  2010 BMW 3 Series 335i 2dr Coupe     Offered b...    NaN    nc   \n",
       "539757  2015 Dodge Dart SE 4dr Sedan     Offered by: B...    NaN    nc   \n",
       "539758  08 GMC Acadia all wheel drive four doorCall ☏ ...    NaN    mn   \n",
       "\n",
       "            lat     long  \n",
       "0       35.7636 -78.7443  \n",
       "2       36.1032 -79.8794  \n",
       "3       35.7636 -78.7443  \n",
       "4       41.1345 -96.2458  \n",
       "5       35.7636 -78.7443  \n",
       "...         ...      ...  \n",
       "539754  42.9506 -76.4254  \n",
       "539755  35.7636 -78.7443  \n",
       "539756  35.7636 -78.7443  \n",
       "539757  35.7636 -78.7443  \n",
       "539758  46.4500 -95.1247  \n",
       "\n",
       "[494800 rows x 25 columns]"
      ]
     },
     "execution_count": 29,
     "metadata": {},
     "output_type": "execute_result"
    }
   ],
   "source": [
    "data_outlier"
   ]
  },
  {
   "cell_type": "code",
   "execution_count": 31,
   "metadata": {},
   "outputs": [
    {
     "data": {
      "text/plain": [
       "<matplotlib.axes._subplots.AxesSubplot at 0x191609c0760>"
      ]
     },
     "execution_count": 31,
     "metadata": {},
     "output_type": "execute_result"
    },
    {
     "data": {
      "image/png": "[encoded data removed]",
      "text/plain": [
       "<Figure size 432x288 with 1 Axes>"
      ]
     },
     "metadata": {
      "needs_background": "light"
     },
     "output_type": "display_data"
    }
   ],
   "source": [
    "data_outlier.boxplot('price')"
   ]
  },
  {
   "cell_type": "code",
   "execution_count": 34,
   "metadata": {},
   "outputs": [
    {
     "data": {
      "text/plain": [
       "array([[<matplotlib.axes._subplots.AxesSubplot object at 0x0000019160B9D340>]],\n",
       "      dtype=object)"
      ]
     },
     "execution_count": 34,
     "metadata": {},
     "output_type": "execute_result"
    },
    {
     "data": {
      "image/png": "[encoded data removed]",
      "text/plain": [
       "<Figure size 432x288 with 1 Axes>"
      ]
     },
     "metadata": {
      "needs_background": "light"
     },
     "output_type": "display_data"
    }
   ],
   "source": [
    "data_outlier.hist('price')"
   ]
  },
  {
   "cell_type": "code",
   "execution_count": 35,
   "metadata": {},
   "outputs": [],
   "source": [
    "data_outlier = data[(data.odometer<data.odometer.quantile(.9995))&(data.odometer>data.odometer.quantile(.005))]"
   ]
  },
  {
   "cell_type": "code",
   "execution_count": 36,
   "metadata": {},
   "outputs": [
    {
     "data": {
      "text/html": [
       "<div>\n",
       "<style scoped>\n",
       "    .dataframe tbody tr th:only-of-type {\n",
       "        vertical-align: middle;\n",
       "    }\n",
       "\n",
       "    .dataframe tbody tr th {\n",
       "        vertical-align: top;\n",
       "    }\n",
       "\n",
       "    .dataframe thead th {\n",
       "        text-align: right;\n",
       "    }\n",
       "</style>\n",
       "<table border=\"1\" class=\"dataframe\">\n",
       "  <thead>\n",
       "    <tr style=\"text-align: right;\">\n",
       "      <th></th>\n",
       "      <th>id</th>\n",
       "      <th>url</th>\n",
       "      <th>region</th>\n",
       "      <th>region_url</th>\n",
       "      <th>price</th>\n",
       "      <th>year</th>\n",
       "      <th>manufacturer</th>\n",
       "      <th>model</th>\n",
       "      <th>condition</th>\n",
       "      <th>cylinders</th>\n",
       "      <th>...</th>\n",
       "      <th>drive</th>\n",
       "      <th>size</th>\n",
       "      <th>type</th>\n",
       "      <th>paint_color</th>\n",
       "      <th>image_url</th>\n",
       "      <th>description</th>\n",
       "      <th>county</th>\n",
       "      <th>state</th>\n",
       "      <th>lat</th>\n",
       "      <th>long</th>\n",
       "    </tr>\n",
       "  </thead>\n",
       "  <tbody>\n",
       "    <tr>\n",
       "      <th>0</th>\n",
       "      <td>7088746062</td>\n",
       "      <td>https://greensboro.craigslist.org/ctd/d/cary-2...</td>\n",
       "      <td>greensboro</td>\n",
       "      <td>https://greensboro.craigslist.org</td>\n",
       "      <td>10299</td>\n",
       "      <td>2012.0</td>\n",
       "      <td>acura</td>\n",
       "      <td>tl</td>\n",
       "      <td>NaN</td>\n",
       "      <td>NaN</td>\n",
       "      <td>...</td>\n",
       "      <td>NaN</td>\n",
       "      <td>NaN</td>\n",
       "      <td>other</td>\n",
       "      <td>blue</td>\n",
       "      <td>https://images.craigslist.org/01414_3LIXs9EO33...</td>\n",
       "      <td>2012 Acura TL Base 4dr Sedan     Offered by: B...</td>\n",
       "      <td>NaN</td>\n",
       "      <td>nc</td>\n",
       "      <td>35.7636</td>\n",
       "      <td>-78.7443</td>\n",
       "    </tr>\n",
       "    <tr>\n",
       "      <th>1</th>\n",
       "      <td>7088745301</td>\n",
       "      <td>https://greensboro.craigslist.org/ctd/d/bmw-3-...</td>\n",
       "      <td>greensboro</td>\n",
       "      <td>https://greensboro.craigslist.org</td>\n",
       "      <td>0</td>\n",
       "      <td>2011.0</td>\n",
       "      <td>bmw</td>\n",
       "      <td>335</td>\n",
       "      <td>NaN</td>\n",
       "      <td>6 cylinders</td>\n",
       "      <td>...</td>\n",
       "      <td>rwd</td>\n",
       "      <td>NaN</td>\n",
       "      <td>convertible</td>\n",
       "      <td>blue</td>\n",
       "      <td>https://images.craigslist.org/00S0S_1kTatLGLxB...</td>\n",
       "      <td>BMW 3 Series 335i Convertible Navigation Dakot...</td>\n",
       "      <td>NaN</td>\n",
       "      <td>nc</td>\n",
       "      <td>NaN</td>\n",
       "      <td>NaN</td>\n",
       "    </tr>\n",
       "    <tr>\n",
       "      <th>2</th>\n",
       "      <td>7088744126</td>\n",
       "      <td>https://greensboro.craigslist.org/cto/d/greens...</td>\n",
       "      <td>greensboro</td>\n",
       "      <td>https://greensboro.craigslist.org</td>\n",
       "      <td>9500</td>\n",
       "      <td>2011.0</td>\n",
       "      <td>jaguar</td>\n",
       "      <td>xf</td>\n",
       "      <td>excellent</td>\n",
       "      <td>NaN</td>\n",
       "      <td>...</td>\n",
       "      <td>NaN</td>\n",
       "      <td>NaN</td>\n",
       "      <td>NaN</td>\n",
       "      <td>blue</td>\n",
       "      <td>https://images.craigslist.org/00505_f22HGItCRp...</td>\n",
       "      <td>2011 jaguar XF premium - estate sale. Retired ...</td>\n",
       "      <td>NaN</td>\n",
       "      <td>nc</td>\n",
       "      <td>36.1032</td>\n",
       "      <td>-79.8794</td>\n",
       "    </tr>\n",
       "    <tr>\n",
       "      <th>3</th>\n",
       "      <td>7088743681</td>\n",
       "      <td>https://greensboro.craigslist.org/ctd/d/cary-2...</td>\n",
       "      <td>greensboro</td>\n",
       "      <td>https://greensboro.craigslist.org</td>\n",
       "      <td>3995</td>\n",
       "      <td>2004.0</td>\n",
       "      <td>honda</td>\n",
       "      <td>element</td>\n",
       "      <td>NaN</td>\n",
       "      <td>NaN</td>\n",
       "      <td>...</td>\n",
       "      <td>fwd</td>\n",
       "      <td>NaN</td>\n",
       "      <td>SUV</td>\n",
       "      <td>orange</td>\n",
       "      <td>https://images.craigslist.org/00E0E_eAUnhFF86M...</td>\n",
       "      <td>2004 Honda Element LX 4dr SUV     Offered by: ...</td>\n",
       "      <td>NaN</td>\n",
       "      <td>nc</td>\n",
       "      <td>35.7636</td>\n",
       "      <td>-78.7443</td>\n",
       "    </tr>\n",
       "    <tr>\n",
       "      <th>5</th>\n",
       "      <td>7088741557</td>\n",
       "      <td>https://greensboro.craigslist.org/ctd/d/cary-2...</td>\n",
       "      <td>greensboro</td>\n",
       "      <td>https://greensboro.craigslist.org</td>\n",
       "      <td>12995</td>\n",
       "      <td>2015.0</td>\n",
       "      <td>kia</td>\n",
       "      <td>sportage</td>\n",
       "      <td>NaN</td>\n",
       "      <td>NaN</td>\n",
       "      <td>...</td>\n",
       "      <td>4wd</td>\n",
       "      <td>NaN</td>\n",
       "      <td>wagon</td>\n",
       "      <td>NaN</td>\n",
       "      <td>https://images.craigslist.org/00000_2qdQpZA2hK...</td>\n",
       "      <td>2015 Kia Sportage EX AWD 4dr SUV     Offered b...</td>\n",
       "      <td>NaN</td>\n",
       "      <td>nc</td>\n",
       "      <td>35.7636</td>\n",
       "      <td>-78.7443</td>\n",
       "    </tr>\n",
       "    <tr>\n",
       "      <th>...</th>\n",
       "      <td>...</td>\n",
       "      <td>...</td>\n",
       "      <td>...</td>\n",
       "      <td>...</td>\n",
       "      <td>...</td>\n",
       "      <td>...</td>\n",
       "      <td>...</td>\n",
       "      <td>...</td>\n",
       "      <td>...</td>\n",
       "      <td>...</td>\n",
       "      <td>...</td>\n",
       "      <td>...</td>\n",
       "      <td>...</td>\n",
       "      <td>...</td>\n",
       "      <td>...</td>\n",
       "      <td>...</td>\n",
       "      <td>...</td>\n",
       "      <td>...</td>\n",
       "      <td>...</td>\n",
       "      <td>...</td>\n",
       "      <td>...</td>\n",
       "    </tr>\n",
       "    <tr>\n",
       "      <th>539753</th>\n",
       "      <td>7088754084</td>\n",
       "      <td>https://greensboro.craigslist.org/ctd/d/cary-2...</td>\n",
       "      <td>greensboro</td>\n",
       "      <td>https://greensboro.craigslist.org</td>\n",
       "      <td>12955</td>\n",
       "      <td>2015.0</td>\n",
       "      <td>mazda</td>\n",
       "      <td>cx-5</td>\n",
       "      <td>NaN</td>\n",
       "      <td>NaN</td>\n",
       "      <td>...</td>\n",
       "      <td>fwd</td>\n",
       "      <td>NaN</td>\n",
       "      <td>wagon</td>\n",
       "      <td>NaN</td>\n",
       "      <td>https://images.craigslist.org/00E0E_cXouPAAiq9...</td>\n",
       "      <td>2015 Mazda CX-5 Sport 4dr SUV 6A     Offered b...</td>\n",
       "      <td>NaN</td>\n",
       "      <td>nc</td>\n",
       "      <td>35.7636</td>\n",
       "      <td>-78.7443</td>\n",
       "    </tr>\n",
       "    <tr>\n",
       "      <th>539755</th>\n",
       "      <td>7088752165</td>\n",
       "      <td>https://greensboro.craigslist.org/ctd/d/cary-2...</td>\n",
       "      <td>greensboro</td>\n",
       "      <td>https://greensboro.craigslist.org</td>\n",
       "      <td>13995</td>\n",
       "      <td>2016.0</td>\n",
       "      <td>nissan</td>\n",
       "      <td>frontier</td>\n",
       "      <td>NaN</td>\n",
       "      <td>NaN</td>\n",
       "      <td>...</td>\n",
       "      <td>4wd</td>\n",
       "      <td>NaN</td>\n",
       "      <td>pickup</td>\n",
       "      <td>silver</td>\n",
       "      <td>https://images.craigslist.org/00R0R_2FiHQj8mDm...</td>\n",
       "      <td>2016 Nissan Frontier SV V6 4x4 4dr King Cab 6....</td>\n",
       "      <td>NaN</td>\n",
       "      <td>nc</td>\n",
       "      <td>35.7636</td>\n",
       "      <td>-78.7443</td>\n",
       "    </tr>\n",
       "    <tr>\n",
       "      <th>539756</th>\n",
       "      <td>7088749883</td>\n",
       "      <td>https://greensboro.craigslist.org/ctd/d/cary-2...</td>\n",
       "      <td>greensboro</td>\n",
       "      <td>https://greensboro.craigslist.org</td>\n",
       "      <td>10995</td>\n",
       "      <td>2010.0</td>\n",
       "      <td>bmw</td>\n",
       "      <td>335i</td>\n",
       "      <td>NaN</td>\n",
       "      <td>NaN</td>\n",
       "      <td>...</td>\n",
       "      <td>NaN</td>\n",
       "      <td>compact</td>\n",
       "      <td>coupe</td>\n",
       "      <td>black</td>\n",
       "      <td>https://images.craigslist.org/00v0v_3sp1G5hNhk...</td>\n",
       "      <td>2010 BMW 3 Series 335i 2dr Coupe     Offered b...</td>\n",
       "      <td>NaN</td>\n",
       "      <td>nc</td>\n",
       "      <td>35.7636</td>\n",
       "      <td>-78.7443</td>\n",
       "    </tr>\n",
       "    <tr>\n",
       "      <th>539757</th>\n",
       "      <td>7088747986</td>\n",
       "      <td>https://greensboro.craigslist.org/ctd/d/cary-2...</td>\n",
       "      <td>greensboro</td>\n",
       "      <td>https://greensboro.craigslist.org</td>\n",
       "      <td>6495</td>\n",
       "      <td>2015.0</td>\n",
       "      <td>dodge</td>\n",
       "      <td>dart</td>\n",
       "      <td>NaN</td>\n",
       "      <td>NaN</td>\n",
       "      <td>...</td>\n",
       "      <td>fwd</td>\n",
       "      <td>NaN</td>\n",
       "      <td>sedan</td>\n",
       "      <td>red</td>\n",
       "      <td>https://images.craigslist.org/00101_6orUUSDpdh...</td>\n",
       "      <td>2015 Dodge Dart SE 4dr Sedan     Offered by: B...</td>\n",
       "      <td>NaN</td>\n",
       "      <td>nc</td>\n",
       "      <td>35.7636</td>\n",
       "      <td>-78.7443</td>\n",
       "    </tr>\n",
       "    <tr>\n",
       "      <th>539758</th>\n",
       "      <td>7082122917</td>\n",
       "      <td>https://stcloud.craigslist.org/ctd/d/wadena-20...</td>\n",
       "      <td>st cloud</td>\n",
       "      <td>https://stcloud.craigslist.org</td>\n",
       "      <td>8990</td>\n",
       "      <td>2008.0</td>\n",
       "      <td>gmc</td>\n",
       "      <td>acadia</td>\n",
       "      <td>NaN</td>\n",
       "      <td>NaN</td>\n",
       "      <td>...</td>\n",
       "      <td>NaN</td>\n",
       "      <td>NaN</td>\n",
       "      <td>SUV</td>\n",
       "      <td>white</td>\n",
       "      <td>https://images.craigslist.org/00t0t_2ulWVUHDZW...</td>\n",
       "      <td>08 GMC Acadia all wheel drive four doorCall ☏ ...</td>\n",
       "      <td>NaN</td>\n",
       "      <td>mn</td>\n",
       "      <td>46.4500</td>\n",
       "      <td>-95.1247</td>\n",
       "    </tr>\n",
       "  </tbody>\n",
       "</table>\n",
       "<p>438186 rows × 25 columns</p>\n",
       "</div>"
      ],
      "text/plain": [
       "                id                                                url  \\\n",
       "0       7088746062  https://greensboro.craigslist.org/ctd/d/cary-2...   \n",
       "1       7088745301  https://greensboro.craigslist.org/ctd/d/bmw-3-...   \n",
       "2       7088744126  https://greensboro.craigslist.org/cto/d/greens...   \n",
       "3       7088743681  https://greensboro.craigslist.org/ctd/d/cary-2...   \n",
       "5       7088741557  https://greensboro.craigslist.org/ctd/d/cary-2...   \n",
       "...            ...                                                ...   \n",
       "539753  7088754084  https://greensboro.craigslist.org/ctd/d/cary-2...   \n",
       "539755  7088752165  https://greensboro.craigslist.org/ctd/d/cary-2...   \n",
       "539756  7088749883  https://greensboro.craigslist.org/ctd/d/cary-2...   \n",
       "539757  7088747986  https://greensboro.craigslist.org/ctd/d/cary-2...   \n",
       "539758  7082122917  https://stcloud.craigslist.org/ctd/d/wadena-20...   \n",
       "\n",
       "            region                         region_url  price    year  \\\n",
       "0       greensboro  https://greensboro.craigslist.org  10299  2012.0   \n",
       "1       greensboro  https://greensboro.craigslist.org      0  2011.0   \n",
       "2       greensboro  https://greensboro.craigslist.org   9500  2011.0   \n",
       "3       greensboro  https://greensboro.craigslist.org   3995  2004.0   \n",
       "5       greensboro  https://greensboro.craigslist.org  12995  2015.0   \n",
       "...            ...                                ...    ...     ...   \n",
       "539753  greensboro  https://greensboro.craigslist.org  12955  2015.0   \n",
       "539755  greensboro  https://greensboro.craigslist.org  13995  2016.0   \n",
       "539756  greensboro  https://greensboro.craigslist.org  10995  2010.0   \n",
       "539757  greensboro  https://greensboro.craigslist.org   6495  2015.0   \n",
       "539758    st cloud     https://stcloud.craigslist.org   8990  2008.0   \n",
       "\n",
       "       manufacturer     model  condition    cylinders  ... drive     size  \\\n",
       "0             acura        tl        NaN          NaN  ...   NaN      NaN   \n",
       "1               bmw       335        NaN  6 cylinders  ...   rwd      NaN   \n",
       "2            jaguar        xf  excellent          NaN  ...   NaN      NaN   \n",
       "3             honda   element        NaN          NaN  ...   fwd      NaN   \n",
       "5               kia  sportage        NaN          NaN  ...   4wd      NaN   \n",
       "...             ...       ...        ...          ...  ...   ...      ...   \n",
       "539753        mazda      cx-5        NaN          NaN  ...   fwd      NaN   \n",
       "539755       nissan  frontier        NaN          NaN  ...   4wd      NaN   \n",
       "539756          bmw      335i        NaN          NaN  ...   NaN  compact   \n",
       "539757        dodge      dart        NaN          NaN  ...   fwd      NaN   \n",
       "539758          gmc    acadia        NaN          NaN  ...   NaN      NaN   \n",
       "\n",
       "               type paint_color  \\\n",
       "0             other        blue   \n",
       "1       convertible        blue   \n",
       "2               NaN        blue   \n",
       "3               SUV      orange   \n",
       "5             wagon         NaN   \n",
       "...             ...         ...   \n",
       "539753        wagon         NaN   \n",
       "539755       pickup      silver   \n",
       "539756        coupe       black   \n",
       "539757        sedan         red   \n",
       "539758          SUV       white   \n",
       "\n",
       "                                                image_url  \\\n",
       "0       https://images.craigslist.org/01414_3LIXs9EO33...   \n",
       "1       https://images.craigslist.org/00S0S_1kTatLGLxB...   \n",
       "2       https://images.craigslist.org/00505_f22HGItCRp...   \n",
       "3       https://images.craigslist.org/00E0E_eAUnhFF86M...   \n",
       "5       https://images.craigslist.org/00000_2qdQpZA2hK...   \n",
       "...                                                   ...   \n",
       "539753  https://images.craigslist.org/00E0E_cXouPAAiq9...   \n",
       "539755  https://images.craigslist.org/00R0R_2FiHQj8mDm...   \n",
       "539756  https://images.craigslist.org/00v0v_3sp1G5hNhk...   \n",
       "539757  https://images.craigslist.org/00101_6orUUSDpdh...   \n",
       "539758  https://images.craigslist.org/00t0t_2ulWVUHDZW...   \n",
       "\n",
       "                                              description county state  \\\n",
       "0       2012 Acura TL Base 4dr Sedan     Offered by: B...    NaN    nc   \n",
       "1       BMW 3 Series 335i Convertible Navigation Dakot...    NaN    nc   \n",
       "2       2011 jaguar XF premium - estate sale. Retired ...    NaN    nc   \n",
       "3       2004 Honda Element LX 4dr SUV     Offered by: ...    NaN    nc   \n",
       "5       2015 Kia Sportage EX AWD 4dr SUV     Offered b...    NaN    nc   \n",
       "...                                                   ...    ...   ...   \n",
       "539753  2015 Mazda CX-5 Sport 4dr SUV 6A     Offered b...    NaN    nc   \n",
       "539755  2016 Nissan Frontier SV V6 4x4 4dr King Cab 6....    NaN    nc   \n",
       "539756  2010 BMW 3 Series 335i 2dr Coupe     Offered b...    NaN    nc   \n",
       "539757  2015 Dodge Dart SE 4dr Sedan     Offered by: B...    NaN    nc   \n",
       "539758  08 GMC Acadia all wheel drive four doorCall ☏ ...    NaN    mn   \n",
       "\n",
       "            lat     long  \n",
       "0       35.7636 -78.7443  \n",
       "1           NaN      NaN  \n",
       "2       36.1032 -79.8794  \n",
       "3       35.7636 -78.7443  \n",
       "5       35.7636 -78.7443  \n",
       "...         ...      ...  \n",
       "539753  35.7636 -78.7443  \n",
       "539755  35.7636 -78.7443  \n",
       "539756  35.7636 -78.7443  \n",
       "539757  35.7636 -78.7443  \n",
       "539758  46.4500 -95.1247  \n",
       "\n",
       "[438186 rows x 25 columns]"
      ]
     },
     "execution_count": 36,
     "metadata": {},
     "output_type": "execute_result"
    }
   ],
   "source": [
    "data_outlier"
   ]
  },
  {
   "cell_type": "code",
   "execution_count": 39,
   "metadata": {},
   "outputs": [
    {
     "data": {
      "text/plain": [
       "<matplotlib.axes._subplots.AxesSubplot at 0x19160c3b130>"
      ]
     },
     "execution_count": 39,
     "metadata": {},
     "output_type": "execute_result"
    },
    {
     "data": {
      "image/png": "[encoded data removed]",
      "text/plain": [
       "<Figure size 432x288 with 1 Axes>"
      ]
     },
     "metadata": {
      "needs_background": "light"
     },
     "output_type": "display_data"
    }
   ],
   "source": [
    "data_outlier.boxplot('odometer')"
   ]
  },
  {
   "cell_type": "code",
   "execution_count": 48,
   "metadata": {},
   "outputs": [
    {
     "data": {
      "text/plain": [
       "array([[0.3386231 ],\n",
       "       [0.33333333],\n",
       "       [0.3386231 ],\n",
       "       ...,\n",
       "       [0.3386231 ],\n",
       "       [0.3386231 ],\n",
       "       [0.3386231 ]])"
      ]
     },
     "execution_count": 48,
     "metadata": {},
     "output_type": "execute_result"
    }
   ],
   "source": [
    "#scaling data\n",
    "#min max scaling\n",
    "from sklearn.preprocessing import MinMaxScaler\n",
    "scaler = MinMaxScaler()\n",
    "scaler.fit(data.cylinders.values.reshape(-1,1))\n",
    "scaler.transform(data.cylinders.values.reshape(-1,1))"
   ]
  },
  {
   "cell_type": "code",
   "execution_count": 56,
   "metadata": {},
   "outputs": [
    {
     "data": {
      "text/plain": [
       "array([[6.04760788],\n",
       "       [6.        ],\n",
       "       [6.04760788],\n",
       "       ...,\n",
       "       [6.04760788],\n",
       "       [6.04760788],\n",
       "       [6.04760788]])"
      ]
     },
     "execution_count": 56,
     "metadata": {},
     "output_type": "execute_result"
    }
   ],
   "source": [
    "#reshape pass in tuple\n",
    "#neu khong biet ro so row xai -1 se pass het do dai cua row\n",
    "data.cylinders.values.reshape(-1,1)"
   ]
  },
  {
   "cell_type": "code",
   "execution_count": null,
   "metadata": {},
   "outputs": [],
   "source": []
  }
 ],
 "metadata": {
  "kernelspec": {
   "display_name": "Python 3.8.2 64-bit",
   "language": "python",
   "name": "python38264bita168140c13d745c5819e3ea7b32a61d1"
  },
  "language_info": {
   "codemirror_mode": {
    "name": "ipython",
    "version": 3
   },
   "file_extension": ".py",
   "mimetype": "text/x-python",
   "name": "python",
   "nbconvert_exporter": "python",
   "pygments_lexer": "ipython3",
   "version": "3.8.3"
  }
 },
 "nbformat": 4,
 "nbformat_minor": 4
}
