{
 "cells": [
  {
   "cell_type": "markdown",
   "metadata": {},
   "source": [
    "Problem 1\n"
   ]
  },
  {
   "cell_type": "code",
   "execution_count": 16,
   "metadata": {},
   "outputs": [
    {
     "name": "stdout",
     "output_type": "stream",
     "text": [
      "{5: 125, 6: 216, 7: 343, 8: 512, 9: 729, 10: 1000, 11: 1331, 12: 1728, 13: 2197, 14: 2744, 15: 3375, 16: 4096, 17: 4913, 18: 5832, 19: 6859, 20: 8000}\n"
     ]
    }
   ],
   "source": [
    "a = {}\n",
    "\n",
    "for k in range(5,21):\n",
    "    a.setdefault(k,k**3)\n",
    "print(a)\n"
   ]
  },
  {
   "cell_type": "markdown",
   "metadata": {},
   "source": [
    "Problem 2"
   ]
  },
  {
   "cell_type": "code",
   "execution_count": 23,
   "metadata": {},
   "outputs": [
    {
     "name": "stdout",
     "output_type": "stream",
     "text": [
      "{'a': 400, 'b': 500, 'c': 900, 'd': 800, 'e': 700}\n"
     ]
    }
   ],
   "source": [
    "e1 = {'a': 200, 'b': 100, 'c': 900, 'd': 500}\n",
    "e2 = {'b': 400, 'a': 200, 'd': 300, 'e': 700}\n",
    "\n",
    "import itertools\n",
    "import collections\n",
    "# using defaultdict\n",
    "e3 = collections.defaultdict(int)\n",
    "# iterating key, val with chain()\n",
    "\n",
    "for key, val in itertools.chain(e1.items(),e2.items()):\n",
    "    e3[key] += val\n",
    "    \n",
    "print(dict(e3))"
   ]
  },
  {
   "cell_type": "markdown",
   "metadata": {},
   "source": [
    "Problem 3\n"
   ]
  },
  {
   "cell_type": "code",
   "execution_count": 5,
   "metadata": {},
   "outputs": [
    {
     "name": "stdout",
     "output_type": "stream",
     "text": [
      "enter your order: 1\n",
      "900\n"
     ]
    }
   ],
   "source": [
    "e3 = {'a': 400, 'b': 500, 'c': 900, 'd': 800, 'e': 700}\n",
    "a = list(e3.values())\n",
    "sort = a.sort()\n",
    "n = int(input('enter your order: '))\n",
    "print(a[-n])"
   ]
  },
  {
   "cell_type": "markdown",
   "metadata": {},
   "source": [
    "Problem 4\n",
    "\n"
   ]
  },
  {
   "cell_type": "code",
   "execution_count": 11,
   "metadata": {},
   "outputs": [
    {
     "name": "stdout",
     "output_type": "stream",
     "text": [
      "{'x': [1, 2, 3, 4, 5, 6, 7, 8, 9, 10], 'y': [11, 12, 13, 14, 15, 16, 17, 18, 19, 20], 'z': [21, 22, 23, 24, 25, 26, 27, 28, 29, 30]}\n",
      "9 19 29\n"
     ]
    }
   ],
   "source": [
    "a = {}\n",
    "a.setdefault('x',list(range(1,11)))\n",
    "a.setdefault('y',list(range(11,21)))\n",
    "a.setdefault('z',list(range(21,31)))\n",
    "print(a)\n",
    "print(a['x'][8],a['y'][8],a['z'][8])"
   ]
  },
  {
   "cell_type": "markdown",
   "metadata": {},
   "source": [
    "Problem 5\n"
   ]
  },
  {
   "cell_type": "code",
   "execution_count": 19,
   "metadata": {},
   "outputs": [
    {
     "name": "stdout",
     "output_type": "stream",
     "text": [
      "Soo1\n",
      "Soo2\n",
      "Soo5\n",
      "Soo7\n",
      "Soo9\n",
      "5\n"
     ]
    }
   ],
   "source": [
    "a = [\n",
    "    {'V':'Soo1'},\n",
    "    {'V':'Soo2'},\n",
    "    {'VI':'Soo1'},\n",
    "    {'VI':'Soo5'},\n",
    "    {'VII':'Soo5'},\n",
    "    {'V':'Soo9'},\n",
    "    {'VIII':'Soo7'}\n",
    "]\n",
    "s = set(v for dic in a for v in dic.values())\n",
    "for x in s:\n",
    "    print(x)\n",
    "print(len(s))"
   ]
  },
  {
   "cell_type": "code",
   "execution_count": 1,
   "metadata": {},
   "outputs": [
    {
     "name": "stdout",
     "output_type": "stream",
     "text": [
      "{'music', 'news', 'movies', 'sports'}\n"
     ]
    },
    {
     "data": {
      "text/plain": [
       "{'movies', 'music', 'news', 'sports'}"
      ]
     },
     "execution_count": 1,
     "metadata": {},
     "output_type": "execute_result"
    }
   ],
   "source": [
    "lis = [{\"abc\":\"movies\"}, {\"abc\": \"sports\"}, {\"abc\": \"music\"}, {\"xyz\": \"music\"}, {\"pqr\":\"music\"}, {\"pqr\":\"movies\"},{\"pqr\":\"sports\"}, {\"pqr\":\"news\"}, {\"pqr\":\"sports\"}]\n",
    "s = set( val for dic in lis for val in dic.values())\n",
    "print(s) \n",
    "set(['movies', 'news', 'music', 'sports'])\n"
   ]
  },
  {
   "cell_type": "code",
   "execution_count": null,
   "metadata": {},
   "outputs": [],
   "source": []
  },
  {
   "cell_type": "code",
   "execution_count": null,
   "metadata": {},
   "outputs": [],
   "source": []
  }
 ],
 "metadata": {
  "kernelspec": {
   "display_name": "Python 3",
   "language": "python",
   "name": "python3"
  },
  "language_info": {
   "codemirror_mode": {
    "name": "ipython",
    "version": 3
   },
   "file_extension": ".py",
   "mimetype": "text/x-python",
   "name": "python",
   "nbconvert_exporter": "python",
   "pygments_lexer": "ipython3",
   "version": "3.7.6"
  }
 },
 "nbformat": 4,
 "nbformat_minor": 4
}
